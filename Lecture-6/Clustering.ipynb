{
 "metadata": {
  "celltoolbar": "Raw Cell Format",
  "name": "",
  "signature": "sha256:19600ae2cb1c3e5bc7336c636d0ed1003ab1f9b27593b3e3babcb148025d7763"
 },
 "nbformat": 3,
 "nbformat_minor": 0,
 "worksheets": [
  {
   "cells": [
    {
     "cell_type": "heading",
     "level": 1,
     "metadata": {},
     "source": [
      "Clustering data with k-means"
     ]
    },
    {
     "cell_type": "code",
     "collapsed": false,
     "input": [
      "import numpy as np\n",
      "import scipy as sp\n",
      "import matplotlib.pyplot as plt\n",
      "import pandas as pd\n",
      "import sklearn.datasets as sk_data\n",
      "import sklearn.metrics as metrics\n",
      "from sklearn.cluster import KMeans\n",
      "\n",
      "\n",
      "#import matplotlib as mpl\n",
      "import seaborn as sns\n",
      "%matplotlib inline"
     ],
     "language": "python",
     "metadata": {},
     "outputs": []
    },
    {
     "cell_type": "heading",
     "level": 2,
     "metadata": {},
     "source": [
      "Basics of k-means clustering"
     ]
    },
    {
     "cell_type": "markdown",
     "metadata": {},
     "source": [
      "Generating our data"
     ]
    },
    {
     "cell_type": "code",
     "collapsed": false,
     "input": [
      "X, y = sk_data.make_blobs(n_samples=100, centers=3, n_features=30,center_box=(-10.0, 10.0),random_state=0)"
     ],
     "language": "python",
     "metadata": {},
     "outputs": []
    },
    {
     "cell_type": "code",
     "collapsed": false,
     "input": [
      "sns.heatmap(X, xticklabels=False, yticklabels=False, linewidths=0,cbar=False)"
     ],
     "language": "python",
     "metadata": {},
     "outputs": []
    },
    {
     "cell_type": "markdown",
     "metadata": {},
     "source": [
      "Computing the pairwise distances for visualization purposes\n",
      "\n",
      "\n",
      "We can compute pairwise distances using the **sklearn.metrics** functions summarized here:\n",
      "http://scikit-learn.org/stable/modules/classes.html#module-sklearn.metrics"
     ]
    },
    {
     "cell_type": "code",
     "collapsed": false,
     "input": [
      "euclidean_dists = metrics.euclidean_distances(X)"
     ],
     "language": "python",
     "metadata": {},
     "outputs": []
    },
    {
     "cell_type": "markdown",
     "metadata": {},
     "source": [
      "Visualizing the data using the heatmap of pairwise distances"
     ]
    },
    {
     "cell_type": "code",
     "collapsed": false,
     "input": [
      "sns.heatmap(euclidean_dists, xticklabels=False, yticklabels=False, linewidths=0, square=True,cbar=False)"
     ],
     "language": "python",
     "metadata": {},
     "outputs": []
    },
    {
     "cell_type": "heading",
     "level": 3,
     "metadata": {},
     "source": [
      "Clustering data using \n",
      "k-means clustering in sklearn.cluster\n",
      "\n",
      "http://scikit-learn.org/stable/modules/clustering.html"
     ]
    },
    {
     "cell_type": "code",
     "collapsed": false,
     "input": [
      "kmeans = KMeans(init='k-means++', n_clusters=3, n_init=10)\n",
      "kmeans.fit_predict(X)\n",
      "centroids = kmeans.cluster_centers_\n",
      "labels = kmeans.labels_\n",
      "error = kmeans.inertia_\n",
      "\n",
      "print \"The total error of the clustering is: \", error\n",
      "print '\\nCluster labels'\n",
      "print labels\n",
      "print '\\n Cluster Centroids'\n",
      "print centroids\n"
     ],
     "language": "python",
     "metadata": {},
     "outputs": []
    },
    {
     "cell_type": "markdown",
     "metadata": {},
     "source": [
      "There are 3 functions in all the clustering classes, **fit()** **predict()** and **fit_predict()**.\u00a0\n",
      "\n",
      "**fit()** is building the model from the training data (e.g. finding the\n",
      "            centroids), \n",
      "            \n",
      "**predict()** is assigning labels to test data after building\n",
      "            the model, \n",
      "            \n",
      "**fit_predict()** is doing both in the same data (e.g in\n",
      "            kmeans, it finds the centroids and assigns the labels to the dataset)"
     ]
    },
    {
     "cell_type": "heading",
     "level": 3,
     "metadata": {},
     "source": [
      "Visualizing the results of clustering"
     ]
    },
    {
     "cell_type": "code",
     "collapsed": false,
     "input": [
      "#print original and cluster data\n",
      "idx = np.argsort(labels)\n",
      "rX = X[idx,:]\n",
      "sns.heatmap( rX,xticklabels=False, yticklabels=False, linewidths=0,cbar=False)"
     ],
     "language": "python",
     "metadata": {},
     "outputs": []
    },
    {
     "cell_type": "code",
     "collapsed": false,
     "input": [
      "#Rearrange so that all same labels are consecutive\n",
      "\n",
      "#print labels\n",
      "#print labels[idx]\n",
      "rearranged_dists = euclidean_dists[idx,:][:,idx]\n",
      "sns.heatmap(rearranged_dists, xticklabels=False, yticklabels=False, linewidths=0, square=True,cbar=False)"
     ],
     "language": "python",
     "metadata": {},
     "outputs": []
    },
    {
     "cell_type": "heading",
     "level": 2,
     "metadata": {},
     "source": [
      "Deciding the number of clusters"
     ]
    },
    {
     "cell_type": "heading",
     "level": 3,
     "metadata": {},
     "source": [
      "Using the error function"
     ]
    },
    {
     "cell_type": "code",
     "collapsed": false,
     "input": [
      "error = np.zeros(11)\n",
      "error[0] = 0;\n",
      "for k in range(1,11):\n",
      "    kmeans = KMeans(init='k-means++', n_clusters=k, n_init=10)\n",
      "    kmeans.fit_predict(X)\n",
      "    error[k] = kmeans.inertia_\n",
      "\n",
      "plt.plot(range(1,len(error)),error[1:])\n",
      "plt.xlabel('Number of clusters')\n",
      "plt.ylabel('Error')"
     ],
     "language": "python",
     "metadata": {},
     "outputs": []
    },
    {
     "cell_type": "markdown",
     "metadata": {},
     "source": [
      "Making this a function"
     ]
    },
    {
     "cell_type": "code",
     "collapsed": false,
     "input": [
      "def evaluate_clusters(X,max_clusters):\n",
      "    error = np.zeros(max_clusters+1)\n",
      "    error[0] = 0;\n",
      "    for k in range(1,max_clusters+1):\n",
      "        kmeans = KMeans(init='k-means++', n_clusters=k, n_init=10)\n",
      "        kmeans.fit_predict(X)\n",
      "        error[k] = kmeans.inertia_\n",
      "\n",
      "    plt.plot(range(1,len(error)),error[1:])\n",
      "    plt.xlabel('Number of clusters')\n",
      "    plt.ylabel('Error')\n",
      "\n",
      "evaluate_clusters(X,10)"
     ],
     "language": "python",
     "metadata": {},
     "outputs": []
    },
    {
     "cell_type": "heading",
     "level": 3,
     "metadata": {},
     "source": [
      "Adjusted Rand Index"
     ]
    },
    {
     "cell_type": "markdown",
     "metadata": {},
     "source": [
      "If $T$ is a ground truth label assignment and $C$ the clustering. Let $a$ be: the number of pairs of elements that have the same label in $T$ and the same label in $C$. Also let $b$ be: the number of pairs of elements that have different labels in $T$ and different labels in $C$. Then the Rand Index is: $$\\text{RI}(T,C) = \\frac{a+b}{n\\choose 2} $$\n",
      "\n",
      "\n",
      "\n",
      "However the RI score does not guarantee that random label assignments will get a value close to zero (esp. if the number of clusters is in the same order of magnitude as the number of samples). To counter this effect we can discount the expected RI $E[\\text{RI}]$ of random labelings by defining the adjusted Rand index as follows:\n",
      "$$\\text{ARI} = \\frac{\\text{RI} - E[\\text{RI}]}{\\max(\\text{RI}) - E[\\text{RI}]}$$\n",
      "\n",
      "\n",
      "Range?"
     ]
    },
    {
     "cell_type": "code",
     "collapsed": false,
     "input": [
      "ri = metrics.adjusted_rand_score(labels,y)\n",
      "print ri"
     ],
     "language": "python",
     "metadata": {},
     "outputs": []
    },
    {
     "cell_type": "code",
     "collapsed": false,
     "input": [
      "def ri_evaluate_clusters(X,max_clusters,ground_truth):\n",
      "    ri = np.zeros(max_clusters+1)\n",
      "    ri[0] = 0;\n",
      "    for k in range(1,max_clusters+1):\n",
      "        kmeans = KMeans(init='k-means++', n_clusters=k, n_init=10)\n",
      "        kmeans.fit_predict(X)\n",
      "        ri[k] = metrics.adjusted_rand_score(kmeans.labels_,ground_truth)\n",
      "    plt.plot(range(1,len(ri)),ri[1:])\n",
      "    plt.xlabel('Number of clusters')\n",
      "    plt.ylabel('Adjusted Rand Index')\n",
      "    \n",
      "ri_evaluate_clusters(X,10,y)"
     ],
     "language": "python",
     "metadata": {},
     "outputs": []
    },
    {
     "cell_type": "markdown",
     "metadata": {},
     "source": [
      "Advantages/Disadvantages?"
     ]
    },
    {
     "cell_type": "heading",
     "level": 3,
     "metadata": {},
     "source": [
      "Silhouette Coefficient"
     ]
    },
    {
     "cell_type": "markdown",
     "metadata": {},
     "source": [
      "If the ground truth labels are not known, evaluation must be performed using the model itself. The Silhouette Coefficient (**sklearn.metrics.silhouette_score**) is an example of such an evaluation, where a higher Silhouette Coefficient score relates to a model with better defined clusters. Let $a$ be the mean distance between a sample and all other points in the same class and $b$ be the mean distance between a sample and all other points in the next nearest cluster. Then the \n",
      "**Silhoeutte Coefficient** for a clustering is:\n",
      "$$s = \\frac{b - a}{\\max(a, b)}$$\n",
      "\n",
      "\n",
      "Range?"
     ]
    },
    {
     "cell_type": "code",
     "collapsed": false,
     "input": [
      "sc = metrics.silhouette_score(X, labels, metric='euclidean')\n",
      "print sc"
     ],
     "language": "python",
     "metadata": {},
     "outputs": []
    },
    {
     "cell_type": "code",
     "collapsed": false,
     "input": [
      "def sc_evaluate_clusters(X,max_clusters):\n",
      "    s = np.zeros(max_clusters+1)\n",
      "    s[0] = 0;\n",
      "    s[1] = 0;\n",
      "    for k in range(2,max_clusters+1):\n",
      "        kmeans = KMeans(init='k-means++', n_clusters=k, n_init=10)\n",
      "        kmeans.fit_predict(X)\n",
      "        s[k] = metrics.silhouette_score(X,kmeans.labels_,metric='cosine')\n",
      "    plt.plot(range(2,len(s)),s[2:])\n",
      "    plt.xlabel('Number of clusters')\n",
      "    plt.ylabel('Adjusted Rand Index')\n",
      "    \n",
      "#sc_evaluate_clusters(X,10)"
     ],
     "language": "python",
     "metadata": {},
     "outputs": []
    },
    {
     "cell_type": "heading",
     "level": 2,
     "metadata": {},
     "source": [
      "Practicing with real data"
     ]
    },
    {
     "cell_type": "heading",
     "level": 3,
     "metadata": {},
     "source": [
      "20 Newsgroup data\n",
      "\n",
      "http://scikit-learn.org/stable/datasets/twenty_newsgroups.html"
     ]
    },
    {
     "cell_type": "code",
     "collapsed": false,
     "input": [
      "from sklearn.datasets import fetch_20newsgroups\n",
      "\n",
      "\"\"\"\n",
      "categories = [\n",
      "    'alt.atheism',\n",
      "    'talk.religion.misc',\n",
      "    'comp.graphics',\n",
      "    'sci.space',\n",
      "    'rec.autos',\n",
      "    'rec.sport.baseball'\n",
      "]\"\"\"\n",
      "categories = ['alt.atheism', 'sci.space','rec.sport.baseball']\n",
      "news_data = fetch_20newsgroups(subset='train', categories=categories)\n",
      "print news_data.target, len(news_data.target)\n",
      "print news_data.target_names"
     ],
     "language": "python",
     "metadata": {},
     "outputs": []
    },
    {
     "cell_type": "heading",
     "level": 4,
     "metadata": {},
     "source": [
      "Data preprocessing"
     ]
    },
    {
     "cell_type": "heading",
     "level": 5,
     "metadata": {},
     "source": [
      "TF-IDF for text documents :  http://scikit-learn.org/stable/modules/feature_extraction.html"
     ]
    },
    {
     "cell_type": "code",
     "collapsed": false,
     "input": [
      "from sklearn.feature_extraction.text import TfidfVectorizer\n",
      "vectorizer = TfidfVectorizer(stop_words='english', min_df=4, max_df=0.8)\n",
      "data = vectorizer.fit_transform(news_data.data)"
     ],
     "language": "python",
     "metadata": {},
     "outputs": []
    },
    {
     "cell_type": "markdown",
     "metadata": {},
     "source": [
      "In a large text corpus, some words will be very present (e.g. \u201cthe\u201d, \u201ca\u201d, \u201cis\u201d in English) hence carrying very little meaningful information about the actual contents of the document. If we were to feed the direct count data directly to a classifier those very frequent terms would shadow the frequencies of rarer yet more interesting terms.\n",
      "\n",
      "In order to re-weight the count features into floating point values suitable for usage by a classifier it is very common to use the tf\u2013idf transform.\n",
      "\n",
      "Tf means term-frequency while tf\u2013idf means term-frequency times inverse document-frequency. This is a originally a term weighting scheme developed for information retrieval (as a ranking function for search engines results), that has also found good use in document classification and clustering."
     ]
    },
    {
     "cell_type": "markdown",
     "metadata": {},
     "source": [
      "$$\\text{tf}(t,d) = \\text{Number of times term }t \\text{ occurs in document } d$$\n",
      "\n",
      "If $N$ is the total number of documents in the corpus $D$ then\n",
      "\n",
      "$$\\text{idf}(t,D)=\\frac{N}{|\\{d\\in D\\mid t\\in d \\}|}$$\n",
      "\n",
      "$$\\text{tf-idf}(t,d)=\\text{tf}(t,d)\\times \\text{idf}(t,D)$$"
     ]
    },
    {
     "cell_type": "heading",
     "level": 4,
     "metadata": {},
     "source": [
      "Getting to know your data"
     ]
    },
    {
     "cell_type": "code",
     "collapsed": false,
     "input": [
      "print type(data), data.shape"
     ],
     "language": "python",
     "metadata": {},
     "outputs": []
    },
    {
     "cell_type": "code",
     "collapsed": true,
     "input": [
      "fig, ax1 = plt.subplots(1,1,figsize=(15,10))\n",
      "sns.heatmap(data[1:100,1:200].todense(), xticklabels=False, yticklabels=False, \n",
      "            linewidths=0, cbar=False, ax=ax1)"
     ],
     "language": "python",
     "metadata": {},
     "outputs": []
    },
    {
     "cell_type": "code",
     "collapsed": false,
     "input": [
      "print news_data.target\n",
      "print news_data.target_names"
     ],
     "language": "python",
     "metadata": {},
     "outputs": []
    },
    {
     "cell_type": "heading",
     "level": 4,
     "metadata": {},
     "source": [
      "Number of clusters"
     ]
    },
    {
     "cell_type": "code",
     "collapsed": false,
     "input": [
      "evaluate_clusters(data, 10)"
     ],
     "language": "python",
     "metadata": {},
     "outputs": []
    },
    {
     "cell_type": "code",
     "collapsed": false,
     "input": [
      "ri_evaluate_clusters(data,10,news_data.target)"
     ],
     "language": "python",
     "metadata": {},
     "outputs": []
    },
    {
     "cell_type": "code",
     "collapsed": false,
     "input": [
      "sc_evaluate_clusters(data,10)"
     ],
     "language": "python",
     "metadata": {},
     "outputs": []
    },
    {
     "cell_type": "heading",
     "level": 4,
     "metadata": {},
     "source": [
      "Looking into our clusters"
     ]
    },
    {
     "cell_type": "code",
     "collapsed": false,
     "input": [
      "k=4\n",
      "kmeans = KMeans(n_clusters=k, init='k-means++', max_iter=100, n_init=1)\n",
      "kmeans.fit_predict(data)"
     ],
     "language": "python",
     "metadata": {},
     "outputs": []
    },
    {
     "cell_type": "code",
     "collapsed": false,
     "input": [
      "print(\"Top terms per cluster:\")\n",
      "asc_order_centroids = kmeans.cluster_centers_.argsort()#[:, ::-1]\n",
      "order_centroids = asc_order_centroids[:,::-1]\n",
      "terms = vectorizer.get_feature_names()\n",
      "for i in range(k):\n",
      "    print \"Cluster %d:\" % i\n",
      "    for ind in order_centroids[i, :10]:\n",
      "        print ' %s' % terms[ind]\n",
      "    print"
     ],
     "language": "python",
     "metadata": {},
     "outputs": []
    },
    {
     "cell_type": "code",
     "collapsed": false,
     "input": [
      "# Code for setting the style of the notebook\n",
      "from IPython.core.display import HTML\n",
      "def css_styling():\n",
      "    styles = open(\"../theme/custom.css\", \"r\").read()\n",
      "    return HTML(styles)\n",
      "css_styling()"
     ],
     "language": "python",
     "metadata": {},
     "outputs": [
      {
       "html": [
        "<link href='http://fonts.googleapis.com/css?family=EB+Garamond' rel='stylesheet' type='text/css'>\n",
        "<link href='http://fonts.googleapis.com/css?family=Alegreya+Sans:100,300,400,500,700,800,900,100italic,300italic,400italic,500italic,700italic,800italic,900italic' rel='stylesheet' type='text/css'>\n",
        "<link href='http://fonts.googleapis.com/css?family=Source+Code+Pro:300,400' rel='stylesheet' type='text/css'>\n",
        "<style>\n",
        "    @font-face {\n",
        "        font-family: \"Computer Modern\";\n",
        "        src: url('http://mirrors.ctan.org/fonts/cm-unicode/fonts/otf/cmunss.otf');\n",
        "    }\n",
        "    .code_cell {\n",
        "        width: 105ex !important ;\n",
        "        margin-bottom: 15px !important;\n",
        "    }\n",
        "    div.cell {\n",
        "        margin-left: auto;\n",
        "        margin-right: auto;\n",
        "        width: 70%;\n",
        "    }    \n",
        "    div.cell.selected {\n",
        "        border: thin rgba(171, 171, 171, 0.5) dashed;\n",
        "    }\n",
        "    h1 {\n",
        "        font-family: 'Alegreya Sans', sans-serif;\n",
        "    }\n",
        "    h2 {\n",
        "        font-family: 'EB Garamond', serif;\n",
        "    }\n",
        "    h3 {\n",
        "        font-family: 'EB Garamond', serif;\n",
        "        margin-top:12px;\n",
        "        margin-bottom: 3px;\n",
        "    }\n",
        "    h4 {\n",
        "        font-family: 'EB Garamond', serif;\n",
        "    }\n",
        "    h5 {\n",
        "        font-family: 'Alegreya Sans', sans-serif;\n",
        "    }\n",
        "    div.text_cell_render {\n",
        "        font-family: 'EB Garamond',Computer Modern, \"Helvetica Neue\", Arial, Helvetica, Geneva, sans-serif;\n",
        "        line-height: 145%;\n",
        "        font-size: 140%;\n",
        "    }\n",
        "    div.input_area {\n",
        "        border-color: rgba(0,0,0,0.10) !important;\n",
        "        background: #fafafa;\n",
        "    }\n",
        "    .CodeMirror {\n",
        "            font-family: \"Source Code Pro\";\n",
        "            font-size: 90%;\n",
        "    }\n",
        "    .prompt {\n",
        "        display: None;\n",
        "    }\n",
        "    .output {\n",
        "        padding-left: 50px;\n",
        "        padding-top: 5px;\n",
        "    }\n",
        "    .output_wrapper {\n",
        "        padding-left: 5px;\n",
        "        padding-top: inherit;\n",
        "    }\n",
        "    div.output_scroll {\n",
        "        width: inherit;\n",
        "    }\n",
        "    .inner_cell {\n",
        "        padding-left: 5px;\n",
        "    }\n",
        "    .text_cell_render h1 {\n",
        "        font-weight: 200;\n",
        "        font-size: 50pt;\n",
        "        line-height: 100%;\n",
        "        color:#CD2305;\n",
        "        margin-bottom: 0.5em;\n",
        "        margin-top: 0.5em;\n",
        "        display: block;\n",
        "    }\n",
        "    .text_cell_render h5 {\n",
        "        font-weight: 300;\n",
        "        font-size: 16pt;\n",
        "        color: #CD2305;\n",
        "        font-style: italic;\n",
        "        margin-bottom: .5em;\n",
        "        margin-top: 0.5em;\n",
        "        display: block;\n",
        "    }\n",
        "    .warning {\n",
        "        color: rgb( 240, 20, 20 )\n",
        "        }  \n",
        "</style>\n",
        "<script>\n",
        "    MathJax.Hub.Config({\n",
        "                        TeX: {\n",
        "                           extensions: [\"AMSmath.js\"]\n",
        "                           },\n",
        "                tex2jax: {\n",
        "                    inlineMath: [ ['$','$'], [\"\\\\(\",\"\\\\)\"] ],\n",
        "                    displayMath: [ ['$$','$$'], [\"\\\\[\",\"\\\\]\"] ]\n",
        "                },\n",
        "                displayAlign: 'center', // Change this to 'center' to center equations.\n",
        "                \"HTML-CSS\": {\n",
        "                    styles: {'.MathJax_Display': {\"margin\": 4}}\n",
        "                }\n",
        "        });\n",
        "</script>"
       ],
       "metadata": {},
       "output_type": "pyout",
       "prompt_number": 1,
       "text": [
        "<IPython.core.display.HTML at 0x38f9da0>"
       ]
      }
     ],
     "prompt_number": 1
    }
   ],
   "metadata": {}
  }
 ]
}