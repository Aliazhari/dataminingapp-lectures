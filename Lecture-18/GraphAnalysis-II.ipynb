{
 "metadata": {
  "name": "",
  "signature": "sha256:1e954d2a846233a5efc593a1975802f7a2e4e7af4475366b886aedaf333d219a"
 },
 "nbformat": 3,
 "nbformat_minor": 0,
 "worksheets": [
  {
   "cells": [
    {
     "cell_type": "heading",
     "level": 1,
     "metadata": {},
     "source": [
      "Graph Analysis - II"
     ]
    },
    {
     "cell_type": "heading",
     "level": 2,
     "metadata": {},
     "source": [
      "Imports"
     ]
    },
    {
     "cell_type": "code",
     "collapsed": false,
     "input": [
      "import time\n",
      "\n",
      "import numpy as np\n",
      "import matplotlib.pyplot as plt\n",
      "import pandas as pd\n",
      "\n",
      "import scipy as sp\n",
      "import scipy.sparse.linalg as linalg\n",
      "import scipy.cluster.hierarchy as hr\n",
      "from scipy.spatial.distance import pdist, squareform\n",
      "\n",
      "import sklearn.datasets as datasets\n",
      "import sklearn.metrics as metrics\n",
      "import sklearn.utils as utils\n",
      "import sklearn.linear_model as linear_model\n",
      "import sklearn.svm as svm\n",
      "import sklearn.cross_validation as cross_validation\n",
      "import sklearn.cluster as cluster\n",
      "from sklearn.ensemble import AdaBoostClassifier\n",
      "from sklearn.neighbors import KNeighborsClassifier\n",
      "from sklearn.decomposition import TruncatedSVD\n",
      "from sklearn.preprocessing import StandardScaler\n",
      "\n",
      "import statsmodels.api as sm\n",
      "\n",
      "from patsy import dmatrices\n",
      "\n",
      "import networkx as nx\n",
      "\n",
      "import seaborn as sns\n",
      "%matplotlib inline"
     ],
     "language": "python",
     "metadata": {},
     "outputs": [],
     "prompt_number": 1
    },
    {
     "cell_type": "heading",
     "level": 2,
     "metadata": {},
     "source": [
      "Centrality measures for the nodes "
     ]
    },
    {
     "cell_type": "code",
     "collapsed": false,
     "input": [
      "Gk=nx.karate_club_graph()"
     ],
     "language": "python",
     "metadata": {},
     "outputs": [],
     "prompt_number": 4
    },
    {
     "cell_type": "markdown",
     "metadata": {},
     "source": [
      "https://networkx.github.io/documentation/latest/reference/algorithms.centrality.html\n",
      "    \n",
      "https://networkx.github.io/documentation/latest/reference/generated/networkx.algorithms.link_analysis.pagerank_alg.pagerank.html"
     ]
    },
    {
     "cell_type": "code",
     "collapsed": false,
     "input": [
      "degree_c = nx.degree_centrality(Gk)\n",
      "pagerank_c = nx.pagerank(Gk)\n",
      "eigenvector_c = nx.eigenvector_centrality(Gk)\n",
      "betweenness_c = nx.betweenness_centrality(Gk)"
     ],
     "language": "python",
     "metadata": {},
     "outputs": [],
     "prompt_number": 6
    },
    {
     "cell_type": "code",
     "collapsed": false,
     "input": [
      "n = len(Gk.nodes())\n",
      "deg = np.zeros(n)\n",
      "pr = np.zeros(n)\n",
      "eig = np.zeros(n)\n",
      "bw = np.zeros(n)\n",
      "i=0\n",
      "for node in Gk:\n",
      "    deg[i] = degree_c[node]\n",
      "    pr[i] = pagerank_c[node]\n",
      "    eig[i] = eigenvector_c[node]\n",
      "    bw[i] = betweenness_c[node]\n",
      "    i+=1"
     ],
     "language": "python",
     "metadata": {},
     "outputs": [],
     "prompt_number": 10
    },
    {
     "cell_type": "code",
     "collapsed": false,
     "input": [
      "plt.scatter(deg,pr)"
     ],
     "language": "python",
     "metadata": {},
     "outputs": [
      {
       "metadata": {},
       "output_type": "pyout",
       "prompt_number": 12,
       "text": [
        "<matplotlib.collections.PathCollection at 0x10af46690>"
       ]
      },
      {
       "metadata": {},
       "output_type": "display_data",
       "png": "[encoded data removed]",
       "text": [
        "<matplotlib.figure.Figure at 0x10ae6ad50>"
       ]
      }
     ],
     "prompt_number": 12
    },
    {
     "cell_type": "code",
     "collapsed": false,
     "input": [
      "plt.scatter(deg,bw)"
     ],
     "language": "python",
     "metadata": {},
     "outputs": [
      {
       "metadata": {},
       "output_type": "pyout",
       "prompt_number": 13,
       "text": [
        "<matplotlib.collections.PathCollection at 0x10b1bf790>"
       ]
      },
      {
       "metadata": {},
       "output_type": "display_data",
       "png": "[encoded data removed]",
       "text": [
        "<matplotlib.figure.Figure at 0x10afb43d0>"
       ]
      }
     ],
     "prompt_number": 13
    },
    {
     "cell_type": "code",
     "collapsed": false,
     "input": [
      "G = nx.read_gml('celegansneural.gml')"
     ],
     "language": "python",
     "metadata": {},
     "outputs": [],
     "prompt_number": 14
    },
    {
     "cell_type": "code",
     "collapsed": false,
     "input": [
      "print len(G.nodes()), len(G.edges())"
     ],
     "language": "python",
     "metadata": {},
     "outputs": [
      {
       "output_type": "stream",
       "stream": "stdout",
       "text": [
        "297 2359\n"
       ]
      }
     ],
     "prompt_number": 15
    },
    {
     "cell_type": "code",
     "collapsed": false,
     "input": [
      "print nx.is_strongly_connected(G)\n"
     ],
     "language": "python",
     "metadata": {},
     "outputs": [
      {
       "output_type": "stream",
       "stream": "stdout",
       "text": [
        "False\n"
       ]
      }
     ],
     "prompt_number": 19
    },
    {
     "cell_type": "code",
     "collapsed": false,
     "input": [
      "scc = nx.strongly_connected_component_subgraphs(G)\n",
      "sizemax = 0\n",
      "Gmax = G\n",
      "for g in scc:\n",
      "    if len(g.nodes())>sizemax:\n",
      "        Gmax = g\n",
      "        sizemax = len(Gmax.nodes())\n",
      "print len(Gmax.nodes())"
     ],
     "language": "python",
     "metadata": {},
     "outputs": [
      {
       "output_type": "stream",
       "stream": "stdout",
       "text": [
        "239\n"
       ]
      }
     ],
     "prompt_number": 21
    },
    {
     "cell_type": "code",
     "collapsed": false,
     "input": [
      "Gmax = nx.DiGraph(Gmax)\n",
      "degree_c = nx.degree_centrality(Gmax)\n",
      "pagerank_c = nx.pagerank(Gmax)\n",
      "eigenvector_c = nx.eigenvector_centrality(Gmax)\n",
      "betweenness_c = nx.betweenness_centrality(Gmax)"
     ],
     "language": "python",
     "metadata": {},
     "outputs": [],
     "prompt_number": 23
    },
    {
     "cell_type": "code",
     "collapsed": false,
     "input": [
      "n = len(Gmax.nodes())\n",
      "deg = np.zeros(n)\n",
      "pr = np.zeros(n)\n",
      "eig = np.zeros(n)\n",
      "bw = np.zeros(n)\n",
      "i=0\n",
      "for node in Gmax:\n",
      "    deg[i] = degree_c[node]\n",
      "    pr[i] = pagerank_c[node]\n",
      "    eig[i] = eigenvector_c[node]\n",
      "    bw[i] = betweenness_c[node]\n",
      "    i+=1"
     ],
     "language": "python",
     "metadata": {},
     "outputs": [],
     "prompt_number": 24
    },
    {
     "cell_type": "code",
     "collapsed": false,
     "input": [
      "plt.scatter(deg,pr)"
     ],
     "language": "python",
     "metadata": {},
     "outputs": [
      {
       "metadata": {},
       "output_type": "pyout",
       "prompt_number": 26,
       "text": [
        "<matplotlib.collections.PathCollection at 0x10b3e9310>"
       ]
      },
      {
       "metadata": {},
       "output_type": "display_data",
       "png": "[encoded data removed]",
       "text": [
        "<matplotlib.figure.Figure at 0x1187ebb90>"
       ]
      }
     ],
     "prompt_number": 26
    },
    {
     "cell_type": "code",
     "collapsed": false,
     "input": [
      "# Code for setting the style of the notebook\n",
      "from IPython.core.display import HTML\n",
      "def css_styling():\n",
      "    styles = open(\"../theme/custom.css\", \"r\").read()\n",
      "    return HTML(styles)\n",
      "css_styling()"
     ],
     "language": "python",
     "metadata": {},
     "outputs": [
      {
       "html": [
        "<link href='http://fonts.googleapis.com/css?family=EB+Garamond' rel='stylesheet' type='text/css'>\r\n",
        "<link href='http://fonts.googleapis.com/css?family=Alegreya+Sans:100,300,400,500,700,800,900,100italic,300italic,400italic,500italic,700italic,800italic,900italic' rel='stylesheet' type='text/css'>\r\n",
        "<link href='http://fonts.googleapis.com/css?family=Source+Code+Pro:300,400' rel='stylesheet' type='text/css'>\r\n",
        "<style>\r\n",
        "    @font-face {\r\n",
        "        font-family: \"Computer Modern\";\r\n",
        "        src: url('http://mirrors.ctan.org/fonts/cm-unicode/fonts/otf/cmunss.otf');\r\n",
        "    }\r\n",
        "    .code_cell {\r\n",
        "        width: 105ex !important ;\r\n",
        "        margin-bottom: 15px !important;\r\n",
        "    }\r\n",
        "    div.cell {\r\n",
        "        margin-left: auto;\r\n",
        "        margin-right: auto;\r\n",
        "        width: 70%;\r\n",
        "    }    \r\n",
        "    div.cell.selected {\r\n",
        "        border: thin rgba(171, 171, 171, 0.5) dashed;\r\n",
        "    }\r\n",
        "    h1 {\r\n",
        "        font-family: 'Alegreya Sans', sans-serif;\r\n",
        "    }\r\n",
        "    h2 {\r\n",
        "        font-family: 'EB Garamond', serif;\r\n",
        "    }\r\n",
        "    h3 {\r\n",
        "        font-family: 'EB Garamond', serif;\r\n",
        "        margin-top:12px;\r\n",
        "        margin-bottom: 3px;\r\n",
        "    }\r\n",
        "    h4 {\r\n",
        "        font-family: 'EB Garamond', serif;\r\n",
        "    }\r\n",
        "    h5 {\r\n",
        "        font-family: 'Alegreya Sans', sans-serif;\r\n",
        "    }\r\n",
        "    div.text_cell_render {\r\n",
        "        font-family: 'EB Garamond',Computer Modern, \"Helvetica Neue\", Arial, Helvetica, Geneva, sans-serif;\r\n",
        "        line-height: 145%;\r\n",
        "        font-size: 140%;\r\n",
        "    }\r\n",
        "    div.input_area {\r\n",
        "        border-color: rgba(0,0,0,0.10) !important;\r\n",
        "        background: #fafafa;\r\n",
        "    }\r\n",
        "    .CodeMirror {\r\n",
        "            font-family: \"Source Code Pro\";\r\n",
        "            font-size: 90%;\r\n",
        "    }\r\n",
        "    .prompt {\r\n",
        "        display: None;\r\n",
        "    }\r\n",
        "    .output {\r\n",
        "        padding-left: 50px;\r\n",
        "        padding-top: 5px;\r\n",
        "    }\r\n",
        "    .output_wrapper {\r\n",
        "        padding-left: 5px;\r\n",
        "        padding-top: inherit;\r\n",
        "    }\r\n",
        "    div.output_scroll {\r\n",
        "        width: inherit;\r\n",
        "    }\r\n",
        "    .inner_cell {\r\n",
        "        padding-left: 5px;\r\n",
        "    }\r\n",
        "    .text_cell_render h1 {\r\n",
        "        font-weight: 200;\r\n",
        "        font-size: 50pt;\r\n",
        "        line-height: 100%;\r\n",
        "        color:#CD2305;\r\n",
        "        margin-bottom: 0.5em;\r\n",
        "        margin-top: 0.5em;\r\n",
        "        display: block;\r\n",
        "    }\r\n",
        "    .text_cell_render h5 {\r\n",
        "        font-weight: 300;\r\n",
        "        font-size: 16pt;\r\n",
        "        color: #CD2305;\r\n",
        "        font-style: italic;\r\n",
        "        margin-bottom: .5em;\r\n",
        "        margin-top: 0.5em;\r\n",
        "        display: block;\r\n",
        "    }\r\n",
        "    .warning {\r\n",
        "        color: rgb( 240, 20, 20 )\r\n",
        "        }  \r\n",
        "</style>\r\n",
        "<script>\r\n",
        "    MathJax.Hub.Config({\r\n",
        "                        TeX: {\r\n",
        "                           extensions: [\"AMSmath.js\"]\r\n",
        "                           },\r\n",
        "                tex2jax: {\r\n",
        "                    inlineMath: [ ['$','$'], [\"\\\\(\",\"\\\\)\"] ],\r\n",
        "                    displayMath: [ ['$$','$$'], [\"\\\\[\",\"\\\\]\"] ]\r\n",
        "                },\r\n",
        "                displayAlign: 'center', // Change this to 'center' to center equations.\r\n",
        "                \"HTML-CSS\": {\r\n",
        "                    styles: {'.MathJax_Display': {\"margin\": 4}}\r\n",
        "                }\r\n",
        "        });\r\n",
        "</script>"
       ],
       "metadata": {},
       "output_type": "pyout",
       "prompt_number": 2,
       "text": [
        "<IPython.core.display.HTML at 0x1026b9e50>"
       ]
      }
     ],
     "prompt_number": 2
    }
   ],
   "metadata": {}
  }
 ]
}