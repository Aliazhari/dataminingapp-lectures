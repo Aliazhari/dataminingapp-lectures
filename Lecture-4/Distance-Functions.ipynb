{
 "metadata": {
  "celltoolbar": "Raw Cell Format",
  "name": "",
  "signature": "sha256:d9c1b07d11a11d66b255616a18846d56b29fb1c35f5f1a34f3fd14a8e7d99bcc"
 },
 "nbformat": 3,
 "nbformat_minor": 0,
 "worksheets": [
  {
   "cells": [
    {
     "cell_type": "heading",
     "level": 1,
     "metadata": {},
     "source": [
      "Distance and similarity functions"
     ]
    },
    {
     "cell_type": "code",
     "collapsed": false,
     "input": [
      "import numpy as np\n",
      "import scipy as sp\n",
      "import matplotlib.pyplot as plt\n",
      "import sklearn as sk\n",
      "import sklearn.datasets as sk_data\n",
      "import sklearn.metrics as metrics\n",
      "import seaborn as sns\n",
      "\n",
      "import time\n",
      "\n",
      "%matplotlib inline"
     ],
     "language": "python",
     "metadata": {},
     "outputs": []
    },
    {
     "cell_type": "heading",
     "level": 2,
     "metadata": {},
     "source": [
      "Brief intro to numpy:  http://www.numpy.org/\n",
      "\n",
      "\n",
      "or for more references: http://docs.scipy.org/doc/numpy/reference/index.html"
     ]
    },
    {
     "cell_type": "heading",
     "level": 3,
     "metadata": {},
     "source": [
      "Why numpy?"
     ]
    },
    {
     "cell_type": "code",
     "collapsed": false,
     "input": [
      "\n",
      "def trad_version():\n",
      "    t1 = time.time()\n",
      "    X = range(10000000)\n",
      "    Y = range(10000000)\n",
      "    Z = []\n",
      "    for i in range(len(X)):\n",
      "        Z.append(X[i] + Y[i])\n",
      "    return time.time() - t1\n",
      "\n",
      "def numpy_version():\n",
      "    t1 = time.time()\n",
      "    X = np.arange(10000000)\n",
      "    Y = np.arange(10000000)\n",
      "    Z = X + Y\n",
      "    return time.time() - t1\n",
      "\n",
      "\n",
      "traditional_time = trad_version()\n",
      "numpy_time = numpy_version()\n",
      "print \"Traditional time = \"+ str(traditional_time)\n",
      "print \"Numpy time       = \"+ str(numpy_time)"
     ],
     "language": "python",
     "metadata": {},
     "outputs": []
    },
    {
     "cell_type": "heading",
     "level": 3,
     "metadata": {},
     "source": [
      "Arrays in numpy"
     ]
    },
    {
     "cell_type": "code",
     "collapsed": false,
     "input": [
      "#1-dimensional arrays\n",
      "x = np.array([2,5,18,14,4])\n",
      "print \"\\n Deterministic 1-dimensional array \\n\"\n",
      "print x\n",
      "\n",
      "x = np.random.rand(5)\n",
      "print \"\\n Random 1-dimensional array \\n\"\n",
      "print x\n",
      "\n",
      "#2-dimensional arrays\n",
      "x = np.array([[2,5,18,14,4], [12,15,1,2,8]])\n",
      "print \"\\n Deterministic 2-dimensional array \\n\"\n",
      "print x\n",
      "\n",
      "x = np.random.rand(5,5)\n",
      "print \"\\n Random 2-dimensional array \\n\"\n",
      "print x\n",
      "print x.shape\n",
      "\n"
     ],
     "language": "python",
     "metadata": {},
     "outputs": []
    },
    {
     "cell_type": "heading",
     "level": 3,
     "metadata": {},
     "source": [
      "Manipulating and aggregating arrays"
     ]
    },
    {
     "cell_type": "code",
     "collapsed": false,
     "input": [
      "x = np.random.rand(5)\n",
      "print x\n",
      "print x+1"
     ],
     "language": "python",
     "metadata": {},
     "outputs": []
    },
    {
     "cell_type": "heading",
     "level": 3,
     "metadata": {},
     "source": [
      "Aggregates"
     ]
    },
    {
     "cell_type": "code",
     "collapsed": false,
     "input": [
      "x = np.random.rand(2,4)\n",
      "print x\n",
      "print np.mean(x)\n",
      "print np.mean(x,0)\n",
      "print np.std(x)\n",
      "print np.std(x,1)\n",
      "print np.median(x)\n",
      "print np.median(x,1)\n",
      "print np.sum(x)\n",
      "print np.sum(x,1)\n",
      "print np.prod(x)\n",
      "print np.prod(x,1)"
     ],
     "language": "python",
     "metadata": {},
     "outputs": []
    },
    {
     "cell_type": "heading",
     "level": 2,
     "metadata": {},
     "source": [
      "Generating synthetic data"
     ]
    },
    {
     "cell_type": "markdown",
     "metadata": {},
     "source": [
      "Random data are the simplest data one can generate. Other types of data following different distributions can be generated with functions extensively discussed below.\n",
      "\n",
      "http://docs.scipy.org/doc/numpy/reference/routines.random.html"
     ]
    },
    {
     "cell_type": "code",
     "collapsed": false,
     "input": [
      "A = np.random.rand(2,15)\n",
      "print (A)"
     ],
     "language": "python",
     "metadata": {},
     "outputs": []
    },
    {
     "cell_type": "code",
     "collapsed": false,
     "input": [
      "B = np.random.randint(2,size = (2,15))\n",
      "print B"
     ],
     "language": "python",
     "metadata": {},
     "outputs": []
    },
    {
     "cell_type": "heading",
     "level": 4,
     "metadata": {},
     "source": [
      "Euclidean distance"
     ]
    },
    {
     "cell_type": "code",
     "collapsed": false,
     "input": [
      "D = np.sqrt(np.sum(np.square(A[0,:]-A[1,:])))\n",
      "print D"
     ],
     "language": "python",
     "metadata": {},
     "outputs": []
    },
    {
     "cell_type": "code",
     "collapsed": false,
     "input": [
      "def my_euclidean_dist(x,y):\n",
      "    return np.sqrt(np.sum(np.square(x-y)))"
     ],
     "language": "python",
     "metadata": {},
     "outputs": []
    },
    {
     "cell_type": "code",
     "collapsed": false,
     "input": [
      "d1 = my_euclidean_dist(A[0,:],A[1,:])\n",
      "d2 = my_euclidean_dist(B[0,:],B[1,:])\n",
      "print d1\n",
      "print d2"
     ],
     "language": "python",
     "metadata": {},
     "outputs": []
    },
    {
     "cell_type": "heading",
     "level": 3,
     "metadata": {},
     "source": [
      "Becoming more effective and efficient using scikit-learn, a set of libraries for data mining, data analysis and machine learning\n",
      "\n",
      "http://scikit-learn.org/stable/"
     ]
    },
    {
     "cell_type": "markdown",
     "metadata": {},
     "source": [
      "Generating data with specific structure using **sklearn.datasets**"
     ]
    },
    {
     "cell_type": "code",
     "collapsed": false,
     "input": [
      "X, y = sk_data.make_blobs(n_samples=100, centers=3, n_features=2,center_box=(-30.0, 30.0),random_state=0)\n",
      "print X.shape, y.shape, type(y)\n",
      "\n",
      "plt.plot(X[y==1,0],X[y==1,1],'bo')\n",
      "plt.plot(X[y==0,0],X[y==0,1],'go')\n",
      "plt.plot(X[y==2,0],X[y==2,1],'ro')"
     ],
     "language": "python",
     "metadata": {},
     "outputs": []
    },
    {
     "cell_type": "code",
     "collapsed": false,
     "input": [
      "euclidean_dists = metrics.euclidean_distances(X)\n",
      "# print euclidean_dists.shape\n",
      "\n",
      "z = y\n",
      "idx = np.argsort(z)\n",
      "rearranged_dists = euclidean_dists[idx,:][:,idx]\n",
      "\n",
      "\n",
      "\n",
      "# Plot the matrices in a single row, using fig, (ax1, ax2) = plt.subplots(1,2,figsize=(15,10))\n",
      "fig, (ax1, ax2) = plt.subplots(1,2,figsize=(15,10))\n",
      "sns.heatmap(euclidean_dists, xticklabels=False, yticklabels=False, linewidths=0, ax=ax1, square=True, cbar=False)\n",
      "sns.heatmap(rearranged_dists, xticklabels=False, yticklabels=False, linewidths=0, ax=ax2, square=True, cbar=False)\n",
      "\n"
     ],
     "language": "python",
     "metadata": {},
     "outputs": []
    },
    {
     "cell_type": "markdown",
     "metadata": {},
     "source": [
      "Another way of generating data using **sklearn.datasets**"
     ]
    },
    {
     "cell_type": "code",
     "collapsed": false,
     "input": [
      "data, rows, columns = sk_data.make_biclusters(\n",
      "    shape=(300, 50), n_clusters=2, noise=0.5,\n",
      "    shuffle=False, random_state=0)\n",
      "#data[data>5] = 1\n",
      "sns.heatmap(data, xticklabels=False, yticklabels=False, linewidths=0)\n",
      "print type(data)\n",
      "print data.shape\n"
     ],
     "language": "python",
     "metadata": {},
     "outputs": []
    },
    {
     "cell_type": "code",
     "collapsed": false,
     "input": [
      "newd = np.reshape(data,data.shape[0]*data.shape[1])\n",
      "plt.hist(newd)\n"
     ],
     "language": "python",
     "metadata": {},
     "outputs": []
    },
    {
     "cell_type": "code",
     "collapsed": false,
     "input": [
      "data[data<40] = 0\n",
      "data[data>=40] = 1\n",
      "sns.heatmap(data, xticklabels=False, yticklabels=False, linewidths=0)"
     ],
     "language": "python",
     "metadata": {},
     "outputs": []
    },
    {
     "cell_type": "code",
     "collapsed": false,
     "input": [
      "\n",
      "shuffled_data, row_idx = sk.utils.shuffle(data, np.arange(data.shape[0]), random_state=100)\n",
      "shuffled_data, col_idx = sk.utils.shuffle(shuffled_data.T, np.arange(data.shape[1]), random_state=100)\n",
      "shuffled_data = shuffled_data.T\n",
      "sns.heatmap(shuffled_data, xticklabels=False, yticklabels=False, linewidths=0)\n",
      "\n"
     ],
     "language": "python",
     "metadata": {},
     "outputs": []
    },
    {
     "cell_type": "code",
     "collapsed": false,
     "input": [
      "jacc_dists = metrics.pairwise_distances(data,Y=None,metric='jaccard', n_jobs=1)\n",
      "\n",
      "sns.heatmap(jacc_dists, xticklabels=False, yticklabels=False, linewidths=0)\n",
      "\n"
     ],
     "language": "python",
     "metadata": {},
     "outputs": []
    },
    {
     "cell_type": "code",
     "collapsed": false,
     "input": [
      "jacc_dists = metrics.pairwise_distances(shuffled_data,Y=None,metric='jaccard', n_jobs=1)\n",
      "\n",
      "\n",
      "y = [ row_idx.tolist().index(i) for i in range(len(row_idx))]\n",
      "\n",
      "rearranged_dists = jacc_dists[y,:][:,y]\n",
      "\n",
      "\n",
      "sns.heatmap(rearranged_dists, xticklabels=False, yticklabels=False, linewidths=0)\n",
      "\n"
     ],
     "language": "python",
     "metadata": {},
     "outputs": []
    },
    {
     "cell_type": "markdown",
     "metadata": {},
     "source": [
      "We can compute pairwise distances using the **sklearn.metrics** functions summarized here:\n",
      "http://scikit-learn.org/stable/modules/classes.html#module-sklearn.metrics"
     ]
    },
    {
     "cell_type": "code",
     "collapsed": false,
     "input": [
      "# Code for setting the style of the notebook\n",
      "from IPython.core.display import HTML\n",
      "def css_styling():\n",
      "    styles = open(\"../theme/custom.css\", \"r\").read()\n",
      "    return HTML(styles)\n",
      "css_styling()"
     ],
     "language": "python",
     "metadata": {},
     "outputs": [
      {
       "html": [
        "<link href='http://fonts.googleapis.com/css?family=EB+Garamond' rel='stylesheet' type='text/css'>\n",
        "<link href='http://fonts.googleapis.com/css?family=Alegreya+Sans:100,300,400,500,700,800,900,100italic,300italic,400italic,500italic,700italic,800italic,900italic' rel='stylesheet' type='text/css'>\n",
        "<link href='http://fonts.googleapis.com/css?family=Source+Code+Pro:300,400' rel='stylesheet' type='text/css'>\n",
        "<style>\n",
        "    @font-face {\n",
        "        font-family: \"Computer Modern\";\n",
        "        src: url('http://mirrors.ctan.org/fonts/cm-unicode/fonts/otf/cmunss.otf');\n",
        "    }\n",
        "    .code_cell {\n",
        "        width: 105ex !important ;\n",
        "        margin-bottom: 15px !important;\n",
        "    }\n",
        "    div.cell {\n",
        "        margin-left: auto;\n",
        "        margin-right: auto;\n",
        "        width: 70%;\n",
        "    }    \n",
        "    div.cell.selected {\n",
        "        border: thin rgba(171, 171, 171, 0.5) dashed;\n",
        "    }\n",
        "    h1 {\n",
        "        font-family: 'Alegreya Sans', sans-serif;\n",
        "    }\n",
        "    h2 {\n",
        "        font-family: 'EB Garamond', serif;\n",
        "    }\n",
        "    h3 {\n",
        "        font-family: 'EB Garamond', serif;\n",
        "        margin-top:12px;\n",
        "        margin-bottom: 3px;\n",
        "    }\n",
        "    h4 {\n",
        "        font-family: 'EB Garamond', serif;\n",
        "    }\n",
        "    h5 {\n",
        "        font-family: 'Alegreya Sans', sans-serif;\n",
        "    }\n",
        "    div.text_cell_render {\n",
        "        font-family: 'EB Garamond',Computer Modern, \"Helvetica Neue\", Arial, Helvetica, Geneva, sans-serif;\n",
        "        line-height: 145%;\n",
        "        font-size: 140%;\n",
        "    }\n",
        "    div.input_area {\n",
        "        border-color: rgba(0,0,0,0.10) !important;\n",
        "        background: #fafafa;\n",
        "    }\n",
        "    .CodeMirror {\n",
        "            font-family: \"Source Code Pro\";\n",
        "            font-size: 90%;\n",
        "    }\n",
        "    .prompt {\n",
        "        display: None;\n",
        "    }\n",
        "    .output {\n",
        "        padding-left: 50px;\n",
        "        padding-top: 5px;\n",
        "    }\n",
        "    .output_wrapper {\n",
        "        padding-left: 5px;\n",
        "        padding-top: inherit;\n",
        "    }\n",
        "    div.output_scroll {\n",
        "        width: inherit;\n",
        "    }\n",
        "    .inner_cell {\n",
        "        padding-left: 5px;\n",
        "    }\n",
        "    .text_cell_render h1 {\n",
        "        font-weight: 200;\n",
        "        font-size: 50pt;\n",
        "        line-height: 100%;\n",
        "        color:#CD2305;\n",
        "        margin-bottom: 0.5em;\n",
        "        margin-top: 0.5em;\n",
        "        display: block;\n",
        "    }\n",
        "    .text_cell_render h5 {\n",
        "        font-weight: 300;\n",
        "        font-size: 16pt;\n",
        "        color: #CD2305;\n",
        "        font-style: italic;\n",
        "        margin-bottom: .5em;\n",
        "        margin-top: 0.5em;\n",
        "        display: block;\n",
        "    }\n",
        "    .warning {\n",
        "        color: rgb( 240, 20, 20 )\n",
        "        }  \n",
        "</style>\n",
        "<script>\n",
        "    MathJax.Hub.Config({\n",
        "                        TeX: {\n",
        "                           extensions: [\"AMSmath.js\"]\n",
        "                           },\n",
        "                tex2jax: {\n",
        "                    inlineMath: [ ['$','$'], [\"\\\\(\",\"\\\\)\"] ],\n",
        "                    displayMath: [ ['$$','$$'], [\"\\\\[\",\"\\\\]\"] ]\n",
        "                },\n",
        "                displayAlign: 'center', // Change this to 'center' to center equations.\n",
        "                \"HTML-CSS\": {\n",
        "                    styles: {'.MathJax_Display': {\"margin\": 4}}\n",
        "                }\n",
        "        });\n",
        "</script>"
       ],
       "metadata": {},
       "output_type": "pyout",
       "prompt_number": 1,
       "text": [
        "<IPython.core.display.HTML at 0x3924d68>"
       ]
      }
     ],
     "prompt_number": 1
    }
   ],
   "metadata": {}
  }
 ]
}