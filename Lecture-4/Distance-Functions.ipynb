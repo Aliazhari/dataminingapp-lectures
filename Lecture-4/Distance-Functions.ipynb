{
 "metadata": {
  "celltoolbar": "Raw Cell Format",
  "name": "",
  "signature": "sha256:54ce15bc6142bde17528b4e3b74bfa9de1285d0d07c2dff81401b7eadb9a24a6"
 },
 "nbformat": 3,
 "nbformat_minor": 0,
 "worksheets": [
  {
   "cells": [
    {
     "cell_type": "heading",
     "level": 1,
     "metadata": {},
     "source": [
      "Distance and similarity functions"
     ]
    },
    {
     "cell_type": "code",
     "collapsed": false,
     "input": [
      "import numpy as np\n",
      "import scipy as sp\n",
      "import matplotlib.pyplot as plt\n",
      "import sklearn as sk\n",
      "import sklearn.datasets as sk_data\n",
      "import sklearn.metrics as metrics\n",
      "import seaborn as sns\n",
      "\n",
      "import time\n",
      "\n",
      "%matplotlib inline"
     ],
     "language": "python",
     "metadata": {},
     "outputs": []
    },
    {
     "cell_type": "heading",
     "level": 2,
     "metadata": {},
     "source": [
      "Brief intro to numpy:  http://www.numpy.org/\n",
      "\n",
      "\n",
      "or for more references: http://docs.scipy.org/doc/numpy/reference/index.html"
     ]
    },
    {
     "cell_type": "heading",
     "level": 3,
     "metadata": {},
     "source": [
      "Why numpy?"
     ]
    },
    {
     "cell_type": "code",
     "collapsed": false,
     "input": [
      "\n",
      "def trad_version():\n",
      "    t1 = time.time()\n",
      "    X = range(10000000)\n",
      "    Y = range(10000000)\n",
      "    Z = []\n",
      "    for i in range(len(X)):\n",
      "        Z.append(X[i] + Y[i])\n",
      "    return time.time() - t1\n",
      "\n",
      "def numpy_version():\n",
      "    t1 = time.time()\n",
      "    X = np.arange(10000000)\n",
      "    Y = np.arange(10000000)\n",
      "    Z = X + Y\n",
      "    return time.time() - t1\n",
      "\n",
      "\n",
      "traditional_time = trad_version()\n",
      "numpy_time = numpy_version()\n",
      "print \"Traditional time = \"+ str(traditional_time)\n",
      "print \"Numpy time       = \"+ str(numpy_time)"
     ],
     "language": "python",
     "metadata": {},
     "outputs": []
    },
    {
     "cell_type": "heading",
     "level": 3,
     "metadata": {},
     "source": [
      "Arrays in numpy"
     ]
    },
    {
     "cell_type": "code",
     "collapsed": false,
     "input": [
      "#1-dimensional arrays\n",
      "x = np.array([2,5,18,14,4])\n",
      "print \"\\n Deterministic 1-dimensional array \\n\"\n",
      "print x\n",
      "\n",
      "x = np.random.rand(5)\n",
      "print \"\\n Random 1-dimensional array \\n\"\n",
      "print x\n",
      "\n",
      "#2-dimensional arrays\n",
      "x = np.array([[2,5,18,14,4], [12,15,1,2,8]])\n",
      "print \"\\n Deterministic 2-dimensional array \\n\"\n",
      "print x\n",
      "\n",
      "x = np.random.rand(5,5)\n",
      "print \"\\n Random 2-dimensional array \\n\"\n",
      "print x\n",
      "print x.shape\n",
      "\n"
     ],
     "language": "python",
     "metadata": {},
     "outputs": []
    },
    {
     "cell_type": "heading",
     "level": 3,
     "metadata": {},
     "source": [
      "Manipulating and aggregating arrays"
     ]
    },
    {
     "cell_type": "code",
     "collapsed": false,
     "input": [
      "x = np.random.rand(5)\n",
      "print x\n",
      "print x+1"
     ],
     "language": "python",
     "metadata": {},
     "outputs": []
    },
    {
     "cell_type": "heading",
     "level": 3,
     "metadata": {},
     "source": [
      "Aggregates"
     ]
    },
    {
     "cell_type": "code",
     "collapsed": false,
     "input": [
      "x = np.random.rand(2,4)\n",
      "print x\n",
      "print np.mean(x)\n",
      "print np.mean(x,0)\n",
      "print np.std(x)\n",
      "print np.std(x,1)\n",
      "print np.median(x)\n",
      "print np.median(x,1)\n",
      "print np.sum(x)\n",
      "print np.sum(x,1)\n",
      "print np.prod(x)\n",
      "print np.prod(x,1)"
     ],
     "language": "python",
     "metadata": {},
     "outputs": []
    },
    {
     "cell_type": "heading",
     "level": 2,
     "metadata": {},
     "source": [
      "Generating synthetic data"
     ]
    },
    {
     "cell_type": "markdown",
     "metadata": {},
     "source": [
      "Random data are the simplest data one can generate. Other types of data following different distributions can be generated with functions extensively discussed below.\n",
      "\n",
      "http://docs.scipy.org/doc/numpy/reference/routines.random.html"
     ]
    },
    {
     "cell_type": "code",
     "collapsed": false,
     "input": [
      "A = np.random.rand(2,15)\n",
      "print (A)"
     ],
     "language": "python",
     "metadata": {},
     "outputs": []
    },
    {
     "cell_type": "code",
     "collapsed": false,
     "input": [
      "B = np.random.randint(2,size = (2,15))\n",
      "print B"
     ],
     "language": "python",
     "metadata": {},
     "outputs": []
    },
    {
     "cell_type": "heading",
     "level": 4,
     "metadata": {},
     "source": [
      "Euclidean distance"
     ]
    },
    {
     "cell_type": "code",
     "collapsed": false,
     "input": [
      "D = np.sqrt(np.sum(np.square(A[0,:]-A[1,:])))\n",
      "print D"
     ],
     "language": "python",
     "metadata": {},
     "outputs": []
    },
    {
     "cell_type": "code",
     "collapsed": false,
     "input": [
      "def my_euclidean_dist(x,y):\n",
      "    return np.sqrt(np.sum(np.square(x-y)))"
     ],
     "language": "python",
     "metadata": {},
     "outputs": []
    },
    {
     "cell_type": "code",
     "collapsed": false,
     "input": [
      "d1 = my_euclidean_dist(A[0,:],A[1,:])\n",
      "d2 = my_euclidean_dist(B[0,:],B[1,:])\n",
      "print d1\n",
      "print d2"
     ],
     "language": "python",
     "metadata": {},
     "outputs": []
    },
    {
     "cell_type": "heading",
     "level": 3,
     "metadata": {},
     "source": [
      "Becoming more effective and efficient using scikit-learn, a set of libraries for data mining, data analysis and machine learning\n",
      "\n",
      "http://scikit-learn.org/stable/"
     ]
    },
    {
     "cell_type": "markdown",
     "metadata": {},
     "source": [
      "Generating data with specific structure using **sklearn.datasets**"
     ]
    },
    {
     "cell_type": "code",
     "collapsed": false,
     "input": [
      "X, y = sk_data.make_blobs(n_samples=100, centers=3, n_features=2,center_box=(-30.0, 30.0),random_state=0)\n",
      "print X.shape, y.shape, type(y)\n",
      "\n",
      "plt.plot(X[y==1,0],X[y==1,1],'bo')\n",
      "plt.plot(X[y==0,0],X[y==0,1],'go')\n",
      "plt.plot(X[y==2,0],X[y==2,1],'ro')"
     ],
     "language": "python",
     "metadata": {},
     "outputs": []
    },
    {
     "cell_type": "code",
     "collapsed": false,
     "input": [
      "euclidean_dists = metrics.euclidean_distances(X)\n",
      "# print euclidean_dists.shape\n",
      "\n",
      "z = y\n",
      "idx = np.argsort(z)\n",
      "rearranged_dists = euclidean_dists[idx,:][:,idx]\n",
      "\n",
      "\n",
      "\n",
      "# Plot the matrices in a single row, using fig, (ax1, ax2) = plt.subplots(1,2,figsize=(15,10))\n",
      "fig, (ax1, ax2) = plt.subplots(1,2,figsize=(15,10))\n",
      "sns.heatmap(euclidean_dists, xticklabels=False, yticklabels=False, linewidths=0, ax=ax1, square=True, cbar=False)\n",
      "sns.heatmap(rearranged_dists, xticklabels=False, yticklabels=False, linewidths=0, ax=ax2, square=True, cbar=False)\n",
      "\n"
     ],
     "language": "python",
     "metadata": {},
     "outputs": []
    },
    {
     "cell_type": "markdown",
     "metadata": {},
     "source": [
      "Another way of generating data using **sklearn.datasets**"
     ]
    },
    {
     "cell_type": "code",
     "collapsed": false,
     "input": [
      "data, rows, columns = sk_data.make_biclusters(\n",
      "    shape=(300, 50), n_clusters=2, noise=0.5,\n",
      "    shuffle=False, random_state=0)\n",
      "#data[data>5] = 1\n",
      "sns.heatmap(data, xticklabels=False, yticklabels=False, linewidths=0)\n",
      "print type(data)\n",
      "print data.shape\n"
     ],
     "language": "python",
     "metadata": {},
     "outputs": []
    },
    {
     "cell_type": "code",
     "collapsed": false,
     "input": [
      "newd = np.reshape(data,data.shape[0]*data.shape[1])\n",
      "plt.hist(newd)\n"
     ],
     "language": "python",
     "metadata": {},
     "outputs": []
    },
    {
     "cell_type": "code",
     "collapsed": false,
     "input": [
      "data[data<40] = 0\n",
      "data[data>=40] = 1\n",
      "sns.heatmap(data, xticklabels=False, yticklabels=False, linewidths=0)"
     ],
     "language": "python",
     "metadata": {},
     "outputs": []
    },
    {
     "cell_type": "code",
     "collapsed": false,
     "input": [
      "\n",
      "shuffled_data, row_idx = sk.utils.shuffle(data, np.arange(data.shape[0]), random_state=100)\n",
      "shuffled_data, col_idx = sk.utils.shuffle(shuffled_data.T, np.arange(data.shape[1]), random_state=100)\n",
      "shuffled_data = shuffled_data.T\n",
      "sns.heatmap(shuffled_data, xticklabels=False, yticklabels=False, linewidths=0)\n",
      "\n"
     ],
     "language": "python",
     "metadata": {},
     "outputs": []
    },
    {
     "cell_type": "code",
     "collapsed": false,
     "input": [
      "jacc_dists = metrics.pairwise_distances(data,Y=None,metric='jaccard', n_jobs=1)\n",
      "\n",
      "sns.heatmap(jacc_dists, xticklabels=False, yticklabels=False, linewidths=0)\n",
      "\n"
     ],
     "language": "python",
     "metadata": {},
     "outputs": []
    },
    {
     "cell_type": "code",
     "collapsed": false,
     "input": [
      "jacc_dists = metrics.pairwise_distances(shuffled_data,Y=None,metric='jaccard', n_jobs=1)\n",
      "\n",
      "\n",
      "y = [ row_idx.tolist().index(i) for i in range(len(row_idx))]\n",
      "\n",
      "rearranged_dists = jacc_dists[y,:][:,y]\n",
      "\n",
      "\n",
      "sns.heatmap(rearranged_dists, xticklabels=False, yticklabels=False, linewidths=0)\n",
      "\n"
     ],
     "language": "python",
     "metadata": {},
     "outputs": []
    },
    {
     "cell_type": "markdown",
     "metadata": {},
     "source": [
      "We can compute pairwise distances using the **sklearn.metrics** functions summarized here:\n",
      "http://scikit-learn.org/stable/modules/classes.html#module-sklearn.metrics"
     ]
    },
    {
     "cell_type": "code",
     "collapsed": false,
     "input": [
      "# Code for setting the style of the notebook\n",
      "from IPython.core.display import HTML\n",
      "def css_styling():\n",
      "    styles = open(\"custom.css\", \"r\").read()\n",
      "    return HTML(styles)\n",
      "css_styling()"
     ],
     "language": "python",
     "metadata": {},
     "outputs": [
      {
       "html": [
        "<link href='http://fonts.googleapis.com/css?family=EB+Garamond' rel='stylesheet' type='text/css'>\r\n",
        "<link href='http://fonts.googleapis.com/css?family=Alegreya+Sans:100,300,400,500,700,800,900,100italic,300italic,400italic,500italic,700italic,800italic,900italic' rel='stylesheet' type='text/css'>\r\n",
        "<link href='http://fonts.googleapis.com/css?family=Source+Code+Pro:300,400' rel='stylesheet' type='text/css'>\r\n",
        "<style>\r\n",
        "    @font-face {\r\n",
        "        font-family: \"Computer Modern\";\r\n",
        "        src: url('http://mirrors.ctan.org/fonts/cm-unicode/fonts/otf/cmunss.otf');\r\n",
        "    }\r\n",
        "    .code_cell {\r\n",
        "        width: 105ex !important ;\r\n",
        "        margin-bottom: 15px !important;\r\n",
        "    }\r\n",
        "    div.cell {\r\n",
        "        margin-left: auto;\r\n",
        "        margin-right: auto;\r\n",
        "        width: 70%;\r\n",
        "    }    \r\n",
        "    div.cell.selected {\r\n",
        "        border: thin rgba(171, 171, 171, 0.5) dashed;\r\n",
        "    }\r\n",
        "    h1 {\r\n",
        "        font-family: 'Alegreya Sans', sans-serif;\r\n",
        "    }\r\n",
        "    h2 {\r\n",
        "        font-family: 'EB Garamond', serif;\r\n",
        "    }\r\n",
        "    h3 {\r\n",
        "        font-family: 'EB Garamond', serif;\r\n",
        "        margin-top:12px;\r\n",
        "        margin-bottom: 3px;\r\n",
        "    }\r\n",
        "    h4 {\r\n",
        "        font-family: 'EB Garamond', serif;\r\n",
        "    }\r\n",
        "    h5 {\r\n",
        "        font-family: 'Alegreya Sans', sans-serif;\r\n",
        "    }\r\n",
        "    div.text_cell_render {\r\n",
        "        font-family: 'EB Garamond',Computer Modern, \"Helvetica Neue\", Arial, Helvetica, Geneva, sans-serif;\r\n",
        "        line-height: 145%;\r\n",
        "        font-size: 140%;\r\n",
        "    }\r\n",
        "    div.input_area {\r\n",
        "        border-color: rgba(0,0,0,0.10) !important;\r\n",
        "        background: #fafafa;\r\n",
        "    }\r\n",
        "    .CodeMirror {\r\n",
        "            font-family: \"Source Code Pro\";\r\n",
        "            font-size: 90%;\r\n",
        "    }\r\n",
        "    .prompt {\r\n",
        "        display: None;\r\n",
        "    }\r\n",
        "    .output {\r\n",
        "        padding-left: 50px;\r\n",
        "        padding-top: 5px;\r\n",
        "    }\r\n",
        "    .output_wrapper {\r\n",
        "        padding-left: 5px;\r\n",
        "        padding-top: inherit;\r\n",
        "    }\r\n",
        "    div.output_scroll {\r\n",
        "        width: inherit;\r\n",
        "    }\r\n",
        "    .inner_cell {\r\n",
        "        padding-left: 5px;\r\n",
        "    }\r\n",
        "    .text_cell_render h1 {\r\n",
        "        font-weight: 200;\r\n",
        "        font-size: 50pt;\r\n",
        "        line-height: 100%;\r\n",
        "        color:#CD2305;\r\n",
        "        margin-bottom: 0.5em;\r\n",
        "        margin-top: 0.5em;\r\n",
        "        display: block;\r\n",
        "    }\r\n",
        "    .text_cell_render h5 {\r\n",
        "        font-weight: 300;\r\n",
        "        font-size: 16pt;\r\n",
        "        color: #CD2305;\r\n",
        "        font-style: italic;\r\n",
        "        margin-bottom: .5em;\r\n",
        "        margin-top: 0.5em;\r\n",
        "        display: block;\r\n",
        "    }\r\n",
        "    .warning {\r\n",
        "        color: rgb( 240, 20, 20 )\r\n",
        "        }  \r\n",
        "</style>\r\n",
        "<script>\r\n",
        "    MathJax.Hub.Config({\r\n",
        "                        TeX: {\r\n",
        "                           extensions: [\"AMSmath.js\"]\r\n",
        "                           },\r\n",
        "                tex2jax: {\r\n",
        "                    inlineMath: [ ['$','$'], [\"\\\\(\",\"\\\\)\"] ],\r\n",
        "                    displayMath: [ ['$$','$$'], [\"\\\\[\",\"\\\\]\"] ]\r\n",
        "                },\r\n",
        "                displayAlign: 'center', // Change this to 'center' to center equations.\r\n",
        "                \"HTML-CSS\": {\r\n",
        "                    styles: {'.MathJax_Display': {\"margin\": 4}}\r\n",
        "                }\r\n",
        "        });\r\n",
        "</script>"
       ],
       "metadata": {},
       "output_type": "pyout",
       "prompt_number": 20,
       "text": [
        "<IPython.core.display.HTML at 0x11119f6d0>"
       ]
      }
     ],
     "prompt_number": 20
    }
   ],
   "metadata": {}
  }
 ]
}