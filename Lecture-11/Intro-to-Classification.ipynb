{
 "metadata": {
  "celltoolbar": "Raw Cell Format",
  "name": "",
  "signature": "sha256:82d3d4b34481f0a14627528f0956e1ca29d89ba0bc8e22eb06dcad7797b9a566"
 },
 "nbformat": 3,
 "nbformat_minor": 0,
 "worksheets": [
  {
   "cells": [
    {
     "cell_type": "heading",
     "level": 1,
     "metadata": {},
     "source": [
      "Introduction to Classification"
     ]
    },
    {
     "cell_type": "code",
     "collapsed": false,
     "input": [
      "import time\n",
      "\n",
      "import numpy as np\n",
      "import scipy as sp\n",
      "import matplotlib.pyplot as plt\n",
      "import pandas as pd\n",
      "import sklearn.datasets as datasets\n",
      "import sklearn.metrics as metrics\n",
      "import sklearn.utils as utils\n",
      "\n",
      "\n",
      "import scipy.sparse.linalg as linalg\n",
      "import scipy.cluster.hierarchy as hr\n",
      "\n",
      "import sklearn.cluster as cluster\n",
      "\n",
      "#classification\n",
      "from sklearn.neighbors import KNeighborsClassifier\n",
      "\n",
      "\n",
      "from sklearn.decomposition import TruncatedSVD\n",
      "from scipy.spatial.distance import pdist, squareform\n",
      "from sklearn.preprocessing import StandardScaler\n",
      "\n",
      "import seaborn as sns\n",
      "%matplotlib inline"
     ],
     "language": "python",
     "metadata": {},
     "outputs": []
    },
    {
     "cell_type": "heading",
     "level": 3,
     "metadata": {},
     "source": [
      "Classify points on cycles"
     ]
    },
    {
     "cell_type": "markdown",
     "metadata": {},
     "source": [
      " Generate data points forming to different cycles"
     ]
    },
    {
     "cell_type": "code",
     "collapsed": false,
     "input": [
      "X, y = datasets.make_circles(noise=.1, factor=.5)\n",
      "print \"X.shape:\", X.shape\n",
      "print \"unique labels: \", np.unique(y)"
     ],
     "language": "python",
     "metadata": {},
     "outputs": []
    },
    {
     "cell_type": "markdown",
     "metadata": {},
     "source": [
      "Plot the data"
     ]
    },
    {
     "cell_type": "code",
     "collapsed": false,
     "input": [
      "plt.prism()  # this sets a nice color map\n",
      "plt.scatter(X[:, 0], X[:, 1], c=y)"
     ],
     "language": "python",
     "metadata": {},
     "outputs": []
    },
    {
     "cell_type": "markdown",
     "metadata": {},
     "source": [
      "Take the first 50 examples for training and the rest for testing."
     ]
    },
    {
     "cell_type": "code",
     "collapsed": false,
     "input": [
      "X_train = X[:50]\n",
      "y_train = y[:50]\n",
      "X_test = X[50:]\n",
      "y_test = y[50:]"
     ],
     "language": "python",
     "metadata": {},
     "outputs": []
    },
    {
     "cell_type": "markdown",
     "metadata": {},
     "source": [
      "Try to classify the points (in the two classes) using a k-nn classifier:\n",
      "\n",
      "http://scikit-learn.org/stable/modules/generated/sklearn.neighbors.NearestNeighbors.html#sklearn.neighbors.NearestNeighbors"
     ]
    },
    {
     "cell_type": "code",
     "collapsed": false,
     "input": [
      "knn = KNeighborsClassifier(n_neighbors=5)    # we specify that this knn should always use 5 neighbors"
     ],
     "language": "python",
     "metadata": {},
     "outputs": []
    },
    {
     "cell_type": "code",
     "collapsed": false,
     "input": [
      "knn.fit(X_train,y_train)\n",
      "y_pred_test = knn.predict(X_test)\n",
      "print \"KNN validation accuracy on test cycles: \", knn.score(X_test, y_test)\n",
      "y_pred_train = knn.predict(X_train)\n",
      "print \"KNN validation accuracy on training cycles: \", knn.score(X_train, y_train)"
     ],
     "language": "python",
     "metadata": {},
     "outputs": []
    },
    {
     "cell_type": "markdown",
     "metadata": {},
     "source": [
      "Plot the results"
     ]
    },
    {
     "cell_type": "code",
     "collapsed": false,
     "input": [
      "plt.prism() # gives us a nice color map\n",
      "plt.xlim(-1.5, 1.5)\n",
      "plt.ylim(-1.5, 1.5)\n",
      "plt.scatter(X_test[:, 0], X_test[:, 1], c=y_pred_test, marker='^')\n",
      "plt.scatter(X_train[:, 0], X_train[:, 1], c=y_train)\n",
      "print \"Accuracy of KNN test set:\", knn.score(X_test, y_test)"
     ],
     "language": "python",
     "metadata": {},
     "outputs": []
    },
    {
     "cell_type": "heading",
     "level": 3,
     "metadata": {},
     "source": [
      "Experimenting with the IRIS dataset:\n",
      "\n",
      "https://archive.ics.uci.edu/ml/datasets/Iris"
     ]
    },
    {
     "cell_type": "markdown",
     "metadata": {},
     "source": [
      "Fetching the data in python\n",
      "\n",
      "http://scikit-learn.org/stable/modules/generated/sklearn.datasets.load_iris.html#sklearn.datasets.load_iris"
     ]
    },
    {
     "cell_type": "code",
     "collapsed": false,
     "input": [
      "iris = datasets.load_iris()"
     ],
     "language": "python",
     "metadata": {},
     "outputs": []
    },
    {
     "cell_type": "code",
     "collapsed": false,
     "input": [
      "X = iris.data\n",
      "y = iris.target\n",
      "ynames = iris.target_names\n",
      "print X.shape, y.shape\n",
      "print X[1,:]\n",
      "print iris.target_names\n",
      "print y"
     ],
     "language": "python",
     "metadata": {},
     "outputs": []
    },
    {
     "cell_type": "markdown",
     "metadata": {},
     "source": [
      "Split the data into training and testing"
     ]
    },
    {
     "cell_type": "code",
     "collapsed": false,
     "input": [
      "X, y = utils.shuffle(X, y, random_state=1)\n",
      "print X.shape\n",
      "print y.shape\n",
      "print y"
     ],
     "language": "python",
     "metadata": {},
     "outputs": []
    },
    {
     "cell_type": "markdown",
     "metadata": {},
     "source": [
      "Split data into training and testing"
     ]
    },
    {
     "cell_type": "code",
     "collapsed": false,
     "input": [
      "train_set_size = 100\n",
      "X_train = X[:train_set_size]  # selects first 100 rows (examples) for train set\n",
      "y_train = y[:train_set_size]\n",
      "X_test = X[train_set_size:]   # selects from row 100 until the last one for test set\n",
      "y_test = y[train_set_size:]\n",
      "print(X_train.shape), y_train.shape\n",
      "print(X_test.shape), y_test.shape"
     ],
     "language": "python",
     "metadata": {},
     "outputs": []
    },
    {
     "cell_type": "markdown",
     "metadata": {},
     "source": [
      "Classifying again using k-nearest neighbors:\n",
      "\n"
     ]
    },
    {
     "cell_type": "code",
     "collapsed": false,
     "input": [
      "knn = KNeighborsClassifier(n_neighbors=20)    # we specify that this knn should always use 5 neighbors"
     ],
     "language": "python",
     "metadata": {},
     "outputs": []
    },
    {
     "cell_type": "code",
     "collapsed": false,
     "input": [
      "knn.fit(X_train, y_train)\n",
      "y_pred_test = knn.predict(X_test)\n",
      "print \"Accuracy of KNN test set:\", knn.score(X_test, y_test)"
     ],
     "language": "python",
     "metadata": {},
     "outputs": []
    },
    {
     "cell_type": "heading",
     "level": 3,
     "metadata": {},
     "source": [
      "NMIST dataset: \n",
      "\n",
      "\n",
      "\n",
      "http://scikit-learn.org/stable/modules/generated/sklearn.datasets.load_digits.html#sklearn.datasets.load_digits"
     ]
    },
    {
     "cell_type": "code",
     "collapsed": false,
     "input": [
      "#mnist = fetch_mldata(\"MNIST original\")\n",
      "digits = datasets.load_digits()\n",
      "X_digits, y_digits = digits.data, digits.target\n",
      "\n",
      "print X_digits.shape, y_digits.shape,  y_digits, digits.target_names\n",
      "X_digits, y_digits = utils.shuffle(X_digits, y_digits)\n",
      "print  y_digits"
     ],
     "language": "python",
     "metadata": {},
     "outputs": []
    },
    {
     "cell_type": "code",
     "collapsed": false,
     "input": [
      "plt.rc(\"image\", cmap=\"binary\") \n",
      "plt.imshow(digits.images[10])"
     ],
     "language": "python",
     "metadata": {},
     "outputs": []
    },
    {
     "cell_type": "markdown",
     "metadata": {},
     "source": [
      "This time we use all classes, but only a small training set (because KNN usually takes a while). To do model selection, we also create a valdation set to adjust k"
     ]
    },
    {
     "cell_type": "code",
     "collapsed": false,
     "input": [
      "step = 1000;\n",
      "X_digits_train = X_digits[:step]\n",
      "y_digits_train = y_digits[:step]\n",
      "X_digits_test = X_digits[step:len(y_digits)]\n",
      "y_digits_test = y_digits[step:len(y_digits)]"
     ],
     "language": "python",
     "metadata": {},
     "outputs": []
    },
    {
     "cell_type": "markdown",
     "metadata": {},
     "source": [
      "Using again the k-NN"
     ]
    },
    {
     "cell_type": "code",
     "collapsed": false,
     "input": [
      "knn_digits = KNeighborsClassifier(n_neighbors=20)\n",
      "knn_digits.fit(X_digits_train, y_digits_train)\n",
      "print \"KNN validation accuracy on MNIST digits: \", knn_digits.score(X_digits_test, y_digits_test)"
     ],
     "language": "python",
     "metadata": {},
     "outputs": []
    },
    {
     "cell_type": "markdown",
     "metadata": {},
     "source": [
      "Looking at the nearest neighbors of some points (for k=3)\n"
     ]
    },
    {
     "cell_type": "code",
     "collapsed": false,
     "input": [
      "knn_digits = KNeighborsClassifier(n_neighbors=2)\n",
      "knn_digits.fit(X_digits_train, y_digits_train)\n",
      "y_digits_test_pred = knn_digits.predict(X_digits_test)\n",
      "print \"KNN test accuracy on MNIST digits: \", knn_digits.score(X_digits_test, y_digits_test)"
     ],
     "language": "python",
     "metadata": {},
     "outputs": []
    },
    {
     "cell_type": "code",
     "collapsed": false,
     "input": [
      "neighbors = knn_digits.kneighbors(X_digits_test, n_neighbors=3, return_distance=False)\n",
      "print type(neighbors)\n",
      "print neighbors.shape"
     ],
     "language": "python",
     "metadata": {},
     "outputs": []
    },
    {
     "cell_type": "markdown",
     "metadata": {},
     "source": [
      "Not let's look at them. Let's start with an image where it worked. First plot the validation image itself, then three neighbors.\n"
     ]
    },
    {
     "cell_type": "code",
     "collapsed": false,
     "input": [
      "plt.rc(\"image\", cmap=\"binary\")  # this sets a black on white colormap\n",
      "# plot X_digits_valid[0]\n",
      "plt.subplot(1, 4, 1)\n",
      "plt.imshow(X_digits_test[1].reshape(8, 8))\n",
      "plt.title(\"Query\")\n",
      "# plot three nearest neighbors from the training set\n",
      "for i in [0, 1, 2]:\n",
      "    plt.subplot(1, 4, 2 + i)\n",
      "    plt.title(\"%dth neighbor\" % i)\n",
      "    plt.imshow(X_digits_train[neighbors[1, i]].reshape(8, 8)) \n",
      "\n"
     ],
     "language": "python",
     "metadata": {},
     "outputs": []
    },
    {
     "cell_type": "code",
     "collapsed": false,
     "input": [
      "# Code for setting the style of the notebook\n",
      "from IPython.core.display import HTML\n",
      "def css_styling():\n",
      "    styles = open(\"custom.css\", \"r\").read()\n",
      "    return HTML(styles)\n",
      "css_styling()"
     ],
     "language": "python",
     "metadata": {},
     "outputs": [
      {
       "html": [
        "<link href='http://fonts.googleapis.com/css?family=EB+Garamond' rel='stylesheet' type='text/css'>\r\n",
        "<link href='http://fonts.googleapis.com/css?family=Alegreya+Sans:100,300,400,500,700,800,900,100italic,300italic,400italic,500italic,700italic,800italic,900italic' rel='stylesheet' type='text/css'>\r\n",
        "<link href='http://fonts.googleapis.com/css?family=Source+Code+Pro:300,400' rel='stylesheet' type='text/css'>\r\n",
        "<style>\r\n",
        "    @font-face {\r\n",
        "        font-family: \"Computer Modern\";\r\n",
        "        src: url('http://mirrors.ctan.org/fonts/cm-unicode/fonts/otf/cmunss.otf');\r\n",
        "    }\r\n",
        "    .code_cell {\r\n",
        "        width: 105ex !important ;\r\n",
        "        margin-bottom: 15px !important;\r\n",
        "    }\r\n",
        "    div.cell {\r\n",
        "        margin-left: auto;\r\n",
        "        margin-right: auto;\r\n",
        "        width: 70%;\r\n",
        "    }    \r\n",
        "    div.cell.selected {\r\n",
        "        border: thin rgba(171, 171, 171, 0.5) dashed;\r\n",
        "    }\r\n",
        "    h1 {\r\n",
        "        font-family: 'Alegreya Sans', sans-serif;\r\n",
        "    }\r\n",
        "    h2 {\r\n",
        "        font-family: 'EB Garamond', serif;\r\n",
        "    }\r\n",
        "    h3 {\r\n",
        "        font-family: 'EB Garamond', serif;\r\n",
        "        margin-top:12px;\r\n",
        "        margin-bottom: 3px;\r\n",
        "    }\r\n",
        "    h4 {\r\n",
        "        font-family: 'EB Garamond', serif;\r\n",
        "    }\r\n",
        "    h5 {\r\n",
        "        font-family: 'Alegreya Sans', sans-serif;\r\n",
        "    }\r\n",
        "    div.text_cell_render {\r\n",
        "        font-family: 'EB Garamond',Computer Modern, \"Helvetica Neue\", Arial, Helvetica, Geneva, sans-serif;\r\n",
        "        line-height: 145%;\r\n",
        "        font-size: 140%;\r\n",
        "    }\r\n",
        "    div.input_area {\r\n",
        "        border-color: rgba(0,0,0,0.10) !important;\r\n",
        "        background: #fafafa;\r\n",
        "    }\r\n",
        "    .CodeMirror {\r\n",
        "            font-family: \"Source Code Pro\";\r\n",
        "            font-size: 90%;\r\n",
        "    }\r\n",
        "    .prompt {\r\n",
        "        display: None;\r\n",
        "    }\r\n",
        "    .output {\r\n",
        "        padding-left: 50px;\r\n",
        "        padding-top: 5px;\r\n",
        "    }\r\n",
        "    .output_wrapper {\r\n",
        "        padding-left: 5px;\r\n",
        "        padding-top: inherit;\r\n",
        "    }\r\n",
        "    div.output_scroll {\r\n",
        "        width: inherit;\r\n",
        "    }\r\n",
        "    .inner_cell {\r\n",
        "        padding-left: 5px;\r\n",
        "    }\r\n",
        "    .text_cell_render h1 {\r\n",
        "        font-weight: 200;\r\n",
        "        font-size: 50pt;\r\n",
        "        line-height: 100%;\r\n",
        "        color:#CD2305;\r\n",
        "        margin-bottom: 0.5em;\r\n",
        "        margin-top: 0.5em;\r\n",
        "        display: block;\r\n",
        "    }\r\n",
        "    .text_cell_render h5 {\r\n",
        "        font-weight: 300;\r\n",
        "        font-size: 16pt;\r\n",
        "        color: #CD2305;\r\n",
        "        font-style: italic;\r\n",
        "        margin-bottom: .5em;\r\n",
        "        margin-top: 0.5em;\r\n",
        "        display: block;\r\n",
        "    }\r\n",
        "    .warning {\r\n",
        "        color: rgb( 240, 20, 20 )\r\n",
        "        }  \r\n",
        "</style>\r\n",
        "<script>\r\n",
        "    MathJax.Hub.Config({\r\n",
        "                        TeX: {\r\n",
        "                           extensions: [\"AMSmath.js\"]\r\n",
        "                           },\r\n",
        "                tex2jax: {\r\n",
        "                    inlineMath: [ ['$','$'], [\"\\\\(\",\"\\\\)\"] ],\r\n",
        "                    displayMath: [ ['$$','$$'], [\"\\\\[\",\"\\\\]\"] ]\r\n",
        "                },\r\n",
        "                displayAlign: 'center', // Change this to 'center' to center equations.\r\n",
        "                \"HTML-CSS\": {\r\n",
        "                    styles: {'.MathJax_Display': {\"margin\": 4}}\r\n",
        "                }\r\n",
        "        });\r\n",
        "</script>"
       ],
       "metadata": {},
       "output_type": "pyout",
       "prompt_number": 49,
       "text": [
        "<IPython.core.display.HTML at 0x10ae605d0>"
       ]
      }
     ],
     "prompt_number": 49
    }
   ],
   "metadata": {}
  }
 ]
}