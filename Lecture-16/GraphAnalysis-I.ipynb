{
 "metadata": {
  "name": "",
  "signature": "sha256:efb2790b19970093c4042e1d4ef7372d415d3a4bf64ccd10d226b82978999a28"
 },
 "nbformat": 3,
 "nbformat_minor": 0,
 "worksheets": [
  {
   "cells": [
    {
     "cell_type": "heading",
     "level": 1,
     "metadata": {},
     "source": [
      "Graph Analysis - I"
     ]
    },
    {
     "cell_type": "heading",
     "level": 2,
     "metadata": {},
     "source": [
      "Imports"
     ]
    },
    {
     "cell_type": "markdown",
     "metadata": {},
     "source": [
      "The new import we are doing in this class is networkx:\n",
      "\n",
      "http://networkx.github.io/documentation/latest/tutorial/"
     ]
    },
    {
     "cell_type": "code",
     "collapsed": false,
     "input": [
      "import time\n",
      "\n",
      "import numpy as np\n",
      "import matplotlib.pyplot as plt\n",
      "import pandas as pd\n",
      "\n",
      "import scipy as sp\n",
      "import scipy.sparse.linalg as linalg\n",
      "import scipy.cluster.hierarchy as hr\n",
      "from scipy.spatial.distance import pdist, squareform\n",
      "\n",
      "import sklearn.datasets as datasets\n",
      "import sklearn.metrics as metrics\n",
      "import sklearn.utils as utils\n",
      "import sklearn.linear_model as linear_model\n",
      "import sklearn.svm as svm\n",
      "import sklearn.cross_validation as cross_validation\n",
      "import sklearn.cluster as cluster\n",
      "from sklearn.ensemble import AdaBoostClassifier\n",
      "from sklearn.neighbors import KNeighborsClassifier\n",
      "from sklearn.decomposition import TruncatedSVD\n",
      "from sklearn.preprocessing import StandardScaler\n",
      "\n",
      "import statsmodels.api as sm\n",
      "\n",
      "from patsy import dmatrices\n",
      "\n",
      "import networkx as nx\n",
      "\n",
      "import seaborn as sns\n",
      "%matplotlib inline"
     ],
     "language": "python",
     "metadata": {},
     "outputs": []
    },
    {
     "cell_type": "heading",
     "level": 2,
     "metadata": {},
     "source": [
      "Experimenting with different graph models"
     ]
    },
    {
     "cell_type": "heading",
     "level": 4,
     "metadata": {},
     "source": [
      "Experimenting with Erdos-Renyi random graphs"
     ]
    },
    {
     "cell_type": "code",
     "collapsed": false,
     "input": [
      "er=nx.erdos_renyi_graph(1000,0.15)"
     ],
     "language": "python",
     "metadata": {},
     "outputs": []
    },
    {
     "cell_type": "code",
     "collapsed": false,
     "input": [
      "print type(er)"
     ],
     "language": "python",
     "metadata": {},
     "outputs": []
    },
    {
     "cell_type": "code",
     "collapsed": false,
     "input": [
      "print \"Number of nodes in the random graph: \", er.number_of_nodes() \n",
      "print \"Number of edges in the random graph: \", er.number_of_edges() \n"
     ],
     "language": "python",
     "metadata": {},
     "outputs": []
    },
    {
     "cell_type": "code",
     "collapsed": false,
     "input": [
      "nx.draw_networkx(er, node_size=15, edge_color='y', with_labels=False, alpha=.4, linewidths=0)"
     ],
     "language": "python",
     "metadata": {},
     "outputs": []
    },
    {
     "cell_type": "heading",
     "level": 4,
     "metadata": {},
     "source": [
      "Degree distribution"
     ]
    },
    {
     "cell_type": "code",
     "collapsed": false,
     "input": [
      "degree_sequence=sorted(nx.degree(er).values(),reverse=True) \n",
      "dmax=max(degree_sequence)\n",
      "print dmax"
     ],
     "language": "python",
     "metadata": {},
     "outputs": []
    },
    {
     "cell_type": "code",
     "collapsed": false,
     "input": [
      "h,bins,patches = plt.hist(degree_sequence,bins=dmax)"
     ],
     "language": "python",
     "metadata": {},
     "outputs": []
    },
    {
     "cell_type": "code",
     "collapsed": false,
     "input": [
      "hmax=max(h)\n",
      "plt.axis([1,dmax,1,hmax]) # set ranges\n",
      "#x=compress(h,bins)    # remove bins with zero entries\n",
      "#y=compress(h,h)       # remove corresponding entries\n",
      "x=bins.compress(h)\n",
      "y=h.compress(h)\n",
      "plt.plot(x,y,'bo')\n",
      "plt.title(\"Degree distribution\")\n",
      "plt.xlabel(\"degree\")\n",
      "plt.ylabel(\"number of nodes\")\n",
      "plt.show()"
     ],
     "language": "python",
     "metadata": {},
     "outputs": []
    },
    {
     "cell_type": "heading",
     "level": 4,
     "metadata": {},
     "source": [
      "Connected Components"
     ]
    },
    {
     "cell_type": "markdown",
     "metadata": {},
     "source": [
      "Two nodes of a graph belong in the same connected component if there is a path of edges of the graph that connects these two nodes."
     ]
    },
    {
     "cell_type": "code",
     "collapsed": false,
     "input": [
      "cc= nx.connected_components(er)\n",
      "print type(cc)\n",
      "print [len(s) for s in cc]"
     ],
     "language": "python",
     "metadata": {},
     "outputs": []
    },
    {
     "cell_type": "code",
     "collapsed": false,
     "input": [
      "def  print_cc_sizes(g):\n",
      "    cc = nx.connected_components(g)\n",
      "    print [len(s) for s in cc]"
     ],
     "language": "python",
     "metadata": {},
     "outputs": []
    },
    {
     "cell_type": "heading",
     "level": 4,
     "metadata": {},
     "source": [
      "Clustering coefficient"
     ]
    },
    {
     "cell_type": "markdown",
     "metadata": {},
     "source": [
      "The **clustering coefficient of a node** is defined as the number of possible triangles centered in this node, divided by the total number of possible triangles in which this node can participate in. Formally, the clustering coefficient of a node $u$ is defined as $$c_u=\\frac{2T(u)}{d(u)(d(u)-1)},$$\n",
      "where $T(u)$ is the number of triangles through node $u$ and $d(u)$ is the degree of node $u$.\n",
      "\n",
      "For more details for weighted graphs etc see:  \n",
      "\n",
      "http://networkx.lanl.gov/reference/generated/networkx.algorithms.cluster.clustering.html#networkx.algorithms.cluster.clustering\n",
      "\n",
      "The **average clustering coefficient** is the average clustering coefficient of all the nodes in the graph.\n",
      "\n",
      "http://networkx.lanl.gov/reference/generated/networkx.algorithms.cluster.average_clustering.html#networkx.algorithms.cluster.average_clustering"
     ]
    },
    {
     "cell_type": "code",
     "collapsed": false,
     "input": [
      "ccall = nx.clustering(er)\n",
      "clustering_coefficient = nx.average_clustering(er)\n",
      "\n",
      "print clustering_coefficient"
     ],
     "language": "python",
     "metadata": {},
     "outputs": []
    },
    {
     "cell_type": "code",
     "collapsed": false,
     "input": [
      "h,bins,patches = plt.hist(list(nx.clustering(er).values()))\n",
      "plt.title('clustering coefficients')"
     ],
     "language": "python",
     "metadata": {},
     "outputs": []
    },
    {
     "cell_type": "heading",
     "level": 4,
     "metadata": {},
     "source": [
      "Triangles"
     ]
    },
    {
     "cell_type": "code",
     "collapsed": false,
     "input": [
      "print(nx.triangles(er,0))\n",
      "#print(nx.triangles(er))\n",
      "h,bins, patches = plt.hist(list(nx.triangles(er).values()))\n",
      "plt.title('Triangles')"
     ],
     "language": "python",
     "metadata": {},
     "outputs": []
    },
    {
     "cell_type": "heading",
     "level": 4,
     "metadata": {},
     "source": [
      "Diameter and average path length"
     ]
    },
    {
     "cell_type": "markdown",
     "metadata": {},
     "source": [
      "The **diameter** of a graph is defined as the largest shortest path between any two nodes in the graph"
     ]
    },
    {
     "cell_type": "code",
     "collapsed": false,
     "input": [
      "print(nx.diameter(er))"
     ],
     "language": "python",
     "metadata": {},
     "outputs": []
    },
    {
     "cell_type": "markdown",
     "metadata": {},
     "source": [
      "The **average shortest path length** of a graph is defined as the average of all shortest path lengths in the graph\n",
      "\n",
      "http://networkx.lanl.gov/reference/generated/networkx.algorithms.shortest_paths.generic.average_shortest_path_length.html"
     ]
    },
    {
     "cell_type": "code",
     "collapsed": false,
     "input": [
      "print(nx.average_shortest_path_length(er))"
     ],
     "language": "python",
     "metadata": {},
     "outputs": []
    },
    {
     "cell_type": "heading",
     "level": 4,
     "metadata": {},
     "source": [
      "Experimenting with Watts-Strogatz graphs\n",
      "\n",
      "http://networkx.lanl.gov/reference/generated/networkx.generators.random_graphs.watts_strogatz_graph.html"
     ]
    },
    {
     "cell_type": "code",
     "collapsed": false,
     "input": [
      "ws=nx.watts_strogatz_graph(500,5,0.1)\n",
      "print_cc_sizes(ws)"
     ],
     "language": "python",
     "metadata": {},
     "outputs": []
    },
    {
     "cell_type": "markdown",
     "metadata": {},
     "source": [
      "Degree distribution"
     ]
    },
    {
     "cell_type": "code",
     "collapsed": false,
     "input": [
      "degree_sequence=sorted(nx.degree(ws).values(),reverse=True) \n",
      "dmax=max(degree_sequence)\n",
      "print dmax"
     ],
     "language": "python",
     "metadata": {},
     "outputs": []
    },
    {
     "cell_type": "code",
     "collapsed": false,
     "input": [
      "h,bins,patches = plt.hist(degree_sequence,bins=dmax)"
     ],
     "language": "python",
     "metadata": {},
     "outputs": []
    },
    {
     "cell_type": "code",
     "collapsed": false,
     "input": [
      "hmax=max(h)\n",
      "plt.axis([1,dmax,1,hmax]) # set ranges\n",
      "#x=compress(h,bins)    # remove bins with zero entries\n",
      "#y=compress(h,h)       # remove corresponding entries\n",
      "x=bins.compress(h)\n",
      "y=h.compress(h)\n",
      "plt.plot(x,y,'bo')\n",
      "plt.title(\"Degree distribution\")\n",
      "plt.xlabel(\"degree\")\n",
      "plt.ylabel(\"number of nodes\")\n",
      "plt.show()"
     ],
     "language": "python",
     "metadata": {},
     "outputs": []
    },
    {
     "cell_type": "markdown",
     "metadata": {},
     "source": [
      "Clustering coefficient"
     ]
    },
    {
     "cell_type": "code",
     "collapsed": false,
     "input": [
      "h,bins,patches = plt.hist(list(nx.clustering(ws).values()))\n",
      "plt.title('clustering coefficients')"
     ],
     "language": "python",
     "metadata": {},
     "outputs": []
    },
    {
     "cell_type": "markdown",
     "metadata": {},
     "source": [
      "Average path length and diameter"
     ]
    },
    {
     "cell_type": "code",
     "collapsed": false,
     "input": [
      "print 'Diameter:', (nx.diameter(ws))\n",
      "print 'Average shortest path length:', (nx.average_shortest_path_length(ws))\n",
      "print 'Average clustering coefficient:', (nx.average_clustering(ws))"
     ],
     "language": "python",
     "metadata": {},
     "outputs": []
    },
    {
     "cell_type": "code",
     "collapsed": false,
     "input": [
      "r = range(4,7)\n",
      "d = np.zeros(len(r))\n",
      "cc = np.zeros(len(r))\n",
      "pl = np.zeros(len(r))\n",
      "index = 0\n",
      "for i in  r:\n",
      "    ws=nx.watts_strogatz_graph(500,i,0.1)\n",
      "    d[index] = nx.diameter(ws)\n",
      "    cc[index] = nx.average_clustering(ws)\n",
      "    pl[index] = nx.average_shortest_path_length(ws)\n",
      "    index=+1\n",
      "plt.plot(r,d,'r')\n",
      "plt.plot(r,cc,'b')\n",
      "#plt.plot(r,pl,'g');"
     ],
     "language": "python",
     "metadata": {},
     "outputs": []
    },
    {
     "cell_type": "heading",
     "level": 4,
     "metadata": {},
     "source": [
      "Experimenting with Barabasi-Albert graphs\n",
      "\n",
      "http://networkx.lanl.gov/reference/generated/networkx.generators.random_graphs.barabasi_albert_graph.html"
     ]
    },
    {
     "cell_type": "code",
     "collapsed": false,
     "input": [
      "ba=nx.barabasi_albert_graph(500,5)\n",
      "print_cc_sizes(ba)"
     ],
     "language": "python",
     "metadata": {},
     "outputs": []
    },
    {
     "cell_type": "markdown",
     "metadata": {},
     "source": [
      "Degree distribution"
     ]
    },
    {
     "cell_type": "code",
     "collapsed": false,
     "input": [
      "degree_sequence=sorted(nx.degree(ba).values(),reverse=True) \n",
      "dmax=max(degree_sequence)\n",
      "print dmax"
     ],
     "language": "python",
     "metadata": {},
     "outputs": []
    },
    {
     "cell_type": "code",
     "collapsed": false,
     "input": [
      "h,bins,patches = plt.hist(degree_sequence,bins=dmax)"
     ],
     "language": "python",
     "metadata": {},
     "outputs": []
    },
    {
     "cell_type": "code",
     "collapsed": false,
     "input": [
      "hmax=max(h)\n",
      "plt.axis([1,dmax,1,hmax]) # set ranges\n",
      "#x=compress(h,bins)    # remove bins with zero entries\n",
      "#y=compress(h,h)       # remove corresponding entries\n",
      "x=bins.compress(h)\n",
      "y=h.compress(h)\n",
      "plt.loglog(x,y,'bo')\n",
      "plt.title(\"Degree distribution\")\n",
      "plt.xlabel(\"degree\")\n",
      "plt.ylabel(\"number of nodes\")\n",
      "plt.show()"
     ],
     "language": "python",
     "metadata": {},
     "outputs": []
    },
    {
     "cell_type": "code",
     "collapsed": false,
     "input": [
      "# Code for setting the style of the notebook\n",
      "from IPython.core.display import HTML\n",
      "def css_styling():\n",
      "    styles = open(\"../theme/custom.css\", \"r\").read()\n",
      "    return HTML(styles)\n",
      "css_styling()"
     ],
     "language": "python",
     "metadata": {},
     "outputs": [
      {
       "html": [
        "<link href='http://fonts.googleapis.com/css?family=EB+Garamond' rel='stylesheet' type='text/css'>\r\n",
        "<link href='http://fonts.googleapis.com/css?family=Alegreya+Sans:100,300,400,500,700,800,900,100italic,300italic,400italic,500italic,700italic,800italic,900italic' rel='stylesheet' type='text/css'>\r\n",
        "<link href='http://fonts.googleapis.com/css?family=Source+Code+Pro:300,400' rel='stylesheet' type='text/css'>\r\n",
        "<style>\r\n",
        "    @font-face {\r\n",
        "        font-family: \"Computer Modern\";\r\n",
        "        src: url('http://mirrors.ctan.org/fonts/cm-unicode/fonts/otf/cmunss.otf');\r\n",
        "    }\r\n",
        "    .code_cell {\r\n",
        "        width: 105ex !important ;\r\n",
        "        margin-bottom: 15px !important;\r\n",
        "    }\r\n",
        "    div.cell {\r\n",
        "        margin-left: auto;\r\n",
        "        margin-right: auto;\r\n",
        "        width: 70%;\r\n",
        "    }    \r\n",
        "    div.cell.selected {\r\n",
        "        border: thin rgba(171, 171, 171, 0.5) dashed;\r\n",
        "    }\r\n",
        "    h1 {\r\n",
        "        font-family: 'Alegreya Sans', sans-serif;\r\n",
        "    }\r\n",
        "    h2 {\r\n",
        "        font-family: 'EB Garamond', serif;\r\n",
        "    }\r\n",
        "    h3 {\r\n",
        "        font-family: 'EB Garamond', serif;\r\n",
        "        margin-top:12px;\r\n",
        "        margin-bottom: 3px;\r\n",
        "    }\r\n",
        "    h4 {\r\n",
        "        font-family: 'EB Garamond', serif;\r\n",
        "    }\r\n",
        "    h5 {\r\n",
        "        font-family: 'Alegreya Sans', sans-serif;\r\n",
        "    }\r\n",
        "    div.text_cell_render {\r\n",
        "        font-family: 'EB Garamond',Computer Modern, \"Helvetica Neue\", Arial, Helvetica, Geneva, sans-serif;\r\n",
        "        line-height: 145%;\r\n",
        "        font-size: 140%;\r\n",
        "    }\r\n",
        "    div.input_area {\r\n",
        "        border-color: rgba(0,0,0,0.10) !important;\r\n",
        "        background: #fafafa;\r\n",
        "    }\r\n",
        "    .CodeMirror {\r\n",
        "            font-family: \"Source Code Pro\";\r\n",
        "            font-size: 90%;\r\n",
        "    }\r\n",
        "    .prompt {\r\n",
        "        display: None;\r\n",
        "    }\r\n",
        "    .output {\r\n",
        "        padding-left: 50px;\r\n",
        "        padding-top: 5px;\r\n",
        "    }\r\n",
        "    .output_wrapper {\r\n",
        "        padding-left: 5px;\r\n",
        "        padding-top: inherit;\r\n",
        "    }\r\n",
        "    div.output_scroll {\r\n",
        "        width: inherit;\r\n",
        "    }\r\n",
        "    .inner_cell {\r\n",
        "        padding-left: 5px;\r\n",
        "    }\r\n",
        "    .text_cell_render h1 {\r\n",
        "        font-weight: 200;\r\n",
        "        font-size: 50pt;\r\n",
        "        line-height: 100%;\r\n",
        "        color:#CD2305;\r\n",
        "        margin-bottom: 0.5em;\r\n",
        "        margin-top: 0.5em;\r\n",
        "        display: block;\r\n",
        "    }\r\n",
        "    .text_cell_render h5 {\r\n",
        "        font-weight: 300;\r\n",
        "        font-size: 16pt;\r\n",
        "        color: #CD2305;\r\n",
        "        font-style: italic;\r\n",
        "        margin-bottom: .5em;\r\n",
        "        margin-top: 0.5em;\r\n",
        "        display: block;\r\n",
        "    }\r\n",
        "    .warning {\r\n",
        "        color: rgb( 240, 20, 20 )\r\n",
        "        }  \r\n",
        "</style>\r\n",
        "<script>\r\n",
        "    MathJax.Hub.Config({\r\n",
        "                        TeX: {\r\n",
        "                           extensions: [\"AMSmath.js\"]\r\n",
        "                           },\r\n",
        "                tex2jax: {\r\n",
        "                    inlineMath: [ ['$','$'], [\"\\\\(\",\"\\\\)\"] ],\r\n",
        "                    displayMath: [ ['$$','$$'], [\"\\\\[\",\"\\\\]\"] ]\r\n",
        "                },\r\n",
        "                displayAlign: 'center', // Change this to 'center' to center equations.\r\n",
        "                \"HTML-CSS\": {\r\n",
        "                    styles: {'.MathJax_Display': {\"margin\": 4}}\r\n",
        "                }\r\n",
        "        });\r\n",
        "</script>"
       ],
       "metadata": {},
       "output_type": "pyout",
       "prompt_number": 1,
       "text": [
        "<IPython.core.display.HTML at 0x103611950>"
       ]
      }
     ],
     "prompt_number": 1
    }
   ],
   "metadata": {}
  }
 ]
}